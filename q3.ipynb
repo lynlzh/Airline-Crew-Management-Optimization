{
 "cells": [
  {
   "cell_type": "code",
   "execution_count": 1,
   "id": "3161905b",
   "metadata": {},
   "outputs": [],
   "source": [
    "from utils.preprocessing import DataLoader\n",
    "import gurobipy as gp\n",
    "from gurobipy import *\n",
    "import math"
   ]
  },
  {
   "cell_type": "markdown",
   "id": "e84b7648",
   "metadata": {},
   "source": [
    "# 数据读取"
   ]
  },
  {
   "cell_type": "code",
   "execution_count": 2,
   "id": "0a5f5357",
   "metadata": {},
   "outputs": [],
   "source": [
    "data_loader = DataLoader('data/Data A-Crew.csv', 'data/Data A-Flight.csv')"
   ]
  },
  {
   "cell_type": "code",
   "execution_count": 3,
   "id": "7def7bd4",
   "metadata": {},
   "outputs": [
    {
     "name": "stdout",
     "output_type": "stream",
     "text": [
      "Counting times...(0/206)\n",
      "Counting times...(100/206)\n",
      "Counting times...(200/206)\n",
      "## Loading C\n",
      "## C loaded\n",
      "## Loading AP\n",
      "## AP loaded\n",
      "## Loading Base\n",
      "## Base loaded\n",
      "## Loading F\n",
      "## F loaded\n",
      "## Loading FF\n",
      "Loading data... (10000/42436)\n",
      "Loading data... (20000/42436)\n",
      "Loading data... (30000/42436)\n",
      "Loading data... (40000/42436)\n",
      "## FF loaded\n",
      "## Loading FF1\n",
      "Loading data... (10000/42436)\n",
      "Loading data... (20000/42436)\n",
      "Loading data... (30000/42436)\n",
      "Loading data... (40000/42436)\n",
      "## FF1 loaded\n",
      "## Loading FF2\n",
      "Loading data... (10000/42436)\n",
      "Loading data... (20000/42436)\n",
      "Loading data... (30000/42436)\n",
      "Loading data... (40000/42436)\n",
      "## FF2 loaded\n",
      "Counting times...(0/206)\n",
      "Counting times...(100/206)\n",
      "Counting times...(200/206)\n"
     ]
    }
   ],
   "source": [
    "data_loader.dump_data()"
   ]
  },
  {
   "cell_type": "code",
   "execution_count": 4,
   "id": "8d26649a",
   "metadata": {},
   "outputs": [],
   "source": [
    "data_loader_a = DataLoader('data/Data A-Crew.csv', 'data/Data A-Flight.csv')"
   ]
  },
  {
   "cell_type": "code",
   "execution_count": 5,
   "id": "416bc926",
   "metadata": {
    "scrolled": true
   },
   "outputs": [
    {
     "name": "stdout",
     "output_type": "stream",
     "text": [
      "Counting times...(0/64)\n",
      "## Loading C\n",
      "## C loaded\n",
      "## Loading AP\n",
      "## AP loaded\n",
      "## Loading Base\n",
      "## Base loaded\n",
      "## Loading F\n",
      "## F loaded\n",
      "## Loading FF\n",
      "## FF loaded\n",
      "## Loading FF1\n",
      "## FF1 loaded\n",
      "## Loading FF2\n",
      "## FF2 loaded\n",
      "Counting times...(0/64)\n"
     ]
    }
   ],
   "source": [
    "data_loader_a.dump_data(cropped_date=(11, 15))"
   ]
  },
  {
   "cell_type": "markdown",
   "id": "b13e0141",
   "metadata": {},
   "source": [
    "# 模型建立与求解"
   ]
  },
  {
   "cell_type": "markdown",
   "id": "6b4c1283",
   "metadata": {},
   "source": [
    "## 第一阶段"
   ]
  },
  {
   "cell_type": "markdown",
   "id": "b5e635ee",
   "metadata": {},
   "source": [
    "### 优化目标①"
   ]
  },
  {
   "cell_type": "code",
   "execution_count": 6,
   "id": "6c1a0539",
   "metadata": {
    "scrolled": true
   },
   "outputs": [
    {
     "name": "stdout",
     "output_type": "stream",
     "text": [
      "Set parameter Username\n",
      "Academic license - for non-commercial use only - expires 2024-11-02\n",
      "Gurobi Optimizer version 9.5.2 build v9.5.2rc0 (win64)\n",
      "Thread count: 8 physical cores, 16 logical processors, using up to 16 threads\n",
      "Optimize a model with 599548 rows, 356224 columns and 2673445 nonzeros\n",
      "Model fingerprint: 0x6d2456e7\n",
      "Variable types: 0 continuous, 356224 integer (356224 binary)\n",
      "Coefficient statistics:\n",
      "  Matrix range     [1e+00, 1e+04]\n",
      "  Objective range  [1e+00, 1e+00]\n",
      "  Bounds range     [1e+00, 1e+00]\n",
      "  RHS range        [1e+00, 1e+04]\n",
      "Found heuristic solution: objective 0.0000000\n",
      "Presolve removed 583294 rows and 329634 columns (presolve time = 5s) ...\n",
      "Presolve removed 583294 rows and 329634 columns\n",
      "Presolve time: 6.06s\n",
      "Presolved: 16254 rows, 26590 columns, 119348 nonzeros\n",
      "Variable types: 0 continuous, 26590 integer (26590 binary)\n",
      "\n",
      "Deterministic concurrent LP optimizer: primal and dual simplex\n",
      "Showing first log only...\n",
      "\n",
      "\n",
      "Root simplex log...\n",
      "\n",
      "Iteration    Objective       Primal Inf.    Dual Inf.      Time\n",
      "       0    0.0000000e+00   0.000000e+00   1.813125e+02      6s\n",
      "   17487   -1.7396026e+01   0.000000e+00   1.232321e+04     10s\n",
      "   29643   -2.9954620e+01   0.000000e+00   2.685980e+06     15s\n",
      "   39166   -5.1658325e+01   0.000000e+00   5.293324e+05     20s\n",
      "Concurrent spin time: 1.77s\n",
      "\n",
      "Solved with dual simplex\n",
      "\n",
      "Root relaxation: objective -6.400000e+01, 27196 iterations, 16.73 seconds (16.25 work units)\n",
      "Total elapsed time = 25.37s\n",
      "\n",
      "    Nodes    |    Current Node    |     Objective Bounds      |     Work\n",
      " Expl Unexpl |  Obj  Depth IntInf | Incumbent    BestBd   Gap | It/Node Time\n",
      "\n",
      "     0     0  -64.00000    0  130    0.00000  -64.00000      -     -   28s\n",
      "H    0     0                     -22.0000000  -64.00000   191%     -   28s\n",
      "H    0     0                     -46.0000000  -64.00000  39.1%     -   29s\n",
      "     0     0  -64.00000    0  159  -46.00000  -64.00000  39.1%     -   32s\n",
      "H    0     0                     -61.0000000  -64.00000  4.92%     -   33s\n",
      "H    0     0                     -64.0000000  -64.00000  0.00%     -   37s\n",
      "     0     0  -64.00000    0   28  -64.00000  -64.00000  0.00%     -   37s\n",
      "\n",
      "Cutting planes:\n",
      "  Gomory: 1\n",
      "  Lift-and-project: 7\n",
      "  Cover: 6\n",
      "  Clique: 2\n",
      "  MIR: 3\n",
      "  Zero half: 6\n",
      "\n",
      "Explored 1 nodes (95413 simplex iterations) in 37.61 seconds (36.91 work units)\n",
      "Thread count was 16 (of 16 available processors)\n",
      "\n",
      "Solution count 5: -64 -61 -46 ... 0\n",
      "No other solutions better than -64\n",
      "\n",
      "Optimal solution found (tolerance 1.00e-04)\n",
      "Best objective -6.400000000000e+01, best bound -6.400000000000e+01, gap 0.0000%\n"
     ]
    }
   ],
   "source": [
    "MaxTAFB = 14400 / 15 * 5\n",
    "\n",
    "m=gp.Model('m1')\n",
    "\n",
    "z=m.addVars(data_loader_a.F,vtype=gp.GRB.BINARY,name='z')\n",
    "x_ikdh=m.addVars(data_loader_a.F,data_loader_a.C,vtype=gp.GRB.BINARY,name='x_dh')\n",
    "x_ikfo=m.addVars(data_loader_a.F,data_loader_a.C,vtype=gp.GRB.BINARY,name='x_fo')\n",
    "x_ikcap=m.addVars(data_loader_a.F,data_loader_a.C,vtype=gp.GRB.BINARY,name='x_cap')\n",
    "\n",
    "r_iksta=m.addVars(data_loader_a.F,data_loader_a.C,vtype=gp.GRB.BINARY,name='r_iksta')\n",
    "r_jkfin=m.addVars(data_loader_a.F,data_loader_a.C,vtype=gp.GRB.BINARY,name='r_jkfin')\n",
    "d_iksta=m.addVars(data_loader_a.F,data_loader_a.C,vtype=gp.GRB.BINARY,name='d_iksta')\n",
    "d_jkfin=m.addVars(data_loader_a.F,data_loader_a.C,vtype=gp.GRB.BINARY,name='d_jkfin')\n",
    "p_iksta=m.addVars(data_loader_a.F,data_loader_a.C,vtype=gp.GRB.BINARY,name='p_iksta')\n",
    "p_jkfin=m.addVars(data_loader_a.F,data_loader_a.C,vtype=gp.GRB.BINARY,name='p_jkfin')\n",
    "\n",
    "y_ijk=m.addVars(data_loader_a.F,data_loader_a.F,data_loader_a.C,vtype=gp.GRB.BINARY,name='y_ijk')\n",
    "v_ijk=m.addVars(data_loader_a.F,data_loader_a.F,data_loader_a.C,vtype=gp.GRB.BINARY,name='v_ijk')\n",
    "w_ijk=m.addVars(data_loader_a.F,data_loader_a.F,data_loader_a.C,vtype=gp.GRB.BINARY,name='w_ijk')\n",
    "u_ijk=m.addVars(data_loader_a.F,data_loader_a.F,data_loader_a.C,vtype=gp.GRB.BINARY,name='u_ijk')\n",
    "\n",
    "# a1=m.addVar(1,vtype=gp.GRB.INTEGER,name='a1')\n",
    "# a2=m.addVar(2,vtype=gp.GRB.INTEGER,name='a2')\n",
    "\n",
    "# a3=m.addVar(3,vtype=gp.GRB.INTEGER,name='a3')\n",
    "# a4=m.addVar(4,vtype=gp.GRB.INTEGER,name='a4')\n",
    "\n",
    "\n",
    "m.ModelSense=GRB.MINIMIZE\n",
    "\n",
    "m.setObjective(-z.sum())\n",
    "\n",
    "\n",
    "# m.setObjective(gp.quicksum(gp.quicksum(data_loader_a.DCost[k]*(gp.quicksum(d_jkfin[i,k]*data_loader_a.arrivetime[i] for i in data_loader_a.FD[t]) \n",
    "#                                                                - gp.quicksum(d_iksta[i,k]*data_loader_a.leavetime[i] for i in data_loader_a.FD[t]))/60\n",
    "#                                                            for k in data_loader_a.C) for t in data_loader_a.Dates ))\n",
    "# m.setObjective(gp.quicksum(gp.quicksum(data_loader_a.PCost[k]*(u_ijk[i,j,k]*data_loader_a.arrivetime[j] - u_ijk[i,j,k]*data_loader_a.leavetime[i]) for i in data_loader_a.FD[t] for j in data_loader_a.FD[t])/60\n",
    "#                                                            for k in data_loader_a.C for t in data_loader_a.Dates ))\n",
    "# m.setObjectiveN(x_ikdh.sum(), index=2, priority=8)\n",
    "\n",
    "\n",
    "# m.setObjectiveN(a1-a2, index=3, priority=7)\n",
    "# m.setObjectiveN(a3-a4, index=4, priority=6)\n",
    "# m.setObjectiveN(gp.quicksum(x_ikfo[i,k] for i in data_loader_a.F for k in data_loader_a.C2), index=5, priority=5)\n",
    "\n",
    "# m.setObjectiveN(-z.sum(),index = 0,weight =0.8)\n",
    "# m.setObjectiveN(x_ikdh.sum(),index=1,weight=0.2)\n",
    "# m.setObjectiveN(gp.quicksum(x_ikfo[i,k] for i in data_loader_a.F for k in data_loader_a.C2),index=2,weight=0.05)\n",
    "\n",
    "\n",
    "M=10000\n",
    "#对X的约束\n",
    "m.addConstrs(x_ikfo[i,k]==0 for i in data_loader_a.F for k in data_loader_a.C1 )\n",
    "m.addConstrs(x_ikcap[i,k]==0 for i in data_loader_a.F for k in data_loader_a.C3 )\n",
    "m.addConstrs(x_ikcap[i,k]+x_ikfo[i,k]+x_ikdh[i,k]<=1 for i in data_loader_a.F for k in data_loader_a.C)\n",
    "\n",
    "#对Z的约束\n",
    "m.addConstrs(gp.quicksum(x_ikcap[i,k]+x_ikfo[i,k]+x_ikdh[i,k] for k in data_loader_a.C)<=M*(z[i]) for i in data_loader_a.F)\n",
    "m.addConstrs(x_ikcap.sum(i,'*')== z[i] for i in data_loader_a.F )\n",
    "m.addConstrs(x_ikfo.sum(i,'*')== z[i] for i in data_loader_a.F )\n",
    "m.addConstrs(M*z[j]>=gp.quicksum(x_ikcap[j,k]+x_ikfo[j,k]+x_ikdh[j,k] for k in data_loader_a.C) for j in data_loader_a.F)\n",
    "\n",
    "#对Y的约束\n",
    "m.addConstrs(y_ijk[i,j,k]==0 for i,j in data_loader_a.FF for k in data_loader_a.C)\n",
    "#m.addConstrs(gp.quicksum(y_ijk[i,j,k] for j in F)<=x_ikcap[i,k]+x_ikfo[i,k]+x_ikdh[i,k] for i in F for k in C)\n",
    "#m.addConstrs(gp.quicksum(y_ijk[j,i,k] for j in F)<=x_ikcap[i,k]+x_ikfo[i,k]+x_ikdh[i,k] for i in F for k in C)\n",
    "\n",
    "#对roaster周期的约束\n",
    "m.addConstrs(r_jkfin[j,k]== 0 for j in data_loader_a.nonF_arrive_base[0] for k in data_loader_a.C)\n",
    "m.addConstrs(r_iksta[i,k]== 0 for i in data_loader_a.nonF_leave_base[0] for k in data_loader_a.C)\n",
    "\n",
    "m.addConstrs(gp.quicksum(r_iksta[i,k] for i in data_loader_a.F_leave_base[0] )<=1  for k in data_loader_a.C)\n",
    "m.addConstrs(gp.quicksum(r_jkfin[j,k] for j in data_loader_a.F_arrive_base[0] )-gp.quicksum(r_iksta[i,k] for i in data_loader_a.F_leave_base[0] ) == 0 for k in data_loader_a.C)\n",
    "\n",
    "#第一问中航班对应周期的约束\n",
    "m.addConstrs(1-(y_ijk.sum(i,'*',k)+r_iksta[i,k]+r_jkfin[i,k])<=M*(1-(x_ikcap[i,k]+x_ikfo[i,k]+x_ikdh[i,k])) for i in data_loader_a.F for k in data_loader_a.C)\n",
    "m.addConstrs(y_ijk.sum(i,'*',k)+r_jkfin[i,k]-(y_ijk.sum('*',i,k)+r_iksta[i,k]) == 0 for i in data_loader_a.F for k in data_loader_a.C)\n",
    "\n",
    "m.addConstrs(y_ijk.sum(i,'*',k)+r_jkfin[i,k] <= x_ikcap[i,k]+x_ikfo[i,k]+x_ikdh[i,k]  for i in data_loader_a.F for k in data_loader_a.C)\n",
    "m.addConstrs(y_ijk.sum('*',i,k)+r_iksta[i,k] <= x_ikcap[i,k]+x_ikfo[i,k]+x_ikdh[i,k]  for i in data_loader_a.F for k in data_loader_a.C)\n",
    "\n",
    "#第二问\n",
    "#对V的约束\n",
    "m.addConstrs(v_ijk[i,j,k]==0 for i,j in data_loader_a.FF1 for k in data_loader_a.C)\n",
    "m.addConstrs(v_ijk[i,j,k] <= y_ijk[i,j,k] for i in data_loader_a.F for j in data_loader_a.F for k in data_loader_a.C)\n",
    "\n",
    "\n",
    "#对duty执勤的约束\n",
    "m.addConstrs(gp.quicksum(d_iksta[i,k] for i in data_loader_a.FD[t]) - gp.quicksum(d_jkfin[i,k] for i in data_loader_a.FD[t]) == 0 for i in data_loader_a.F for k in data_loader_a.C for t in data_loader_a.Dates)\n",
    "m.addConstrs(gp.quicksum(d_iksta[i,k] for i in data_loader_a.FD[t])   <= gp.quicksum(x_ikcap[i,k]+x_ikfo[i,k]+x_ikdh[i,k] for i in data_loader_a.FD[t]) for i in data_loader_a.F for k in data_loader_a.C for t in data_loader_a.Dates)\n",
    "m.addConstrs(gp.quicksum(d_iksta[i,k] for i in data_loader_a.FD[t])*M >= gp.quicksum(x_ikcap[i,k]+x_ikfo[i,k]+x_ikdh[i,k] for i in data_loader_a.FD[t]) for k in data_loader_a.C for t in data_loader_a.Dates)\n",
    "\n",
    "#m.addConstrs(d_iksta[i,k] for i in data_loader_a.FD[t]  <= x_ikcap[i,k]+x_ikfo[i,k]+x_ikdh[i,k] for i in data_loader_a.FD[t] for k in data_loader_a.C for t in data_loader_a.Dates)\n",
    "\n",
    "#第二问中航班对应执勤，执勤对应周期的约束\n",
    "m.addConstrs((v_ijk.sum(i,'*',k)+ r_jkfin[i,k] ==  d_jkfin[i,k]) for i in data_loader_a.F for k in data_loader_a.C)\n",
    "m.addConstrs((v_ijk.sum('*',i,k)+ r_iksta[i,k] ==  d_iksta[i,k]) for i in data_loader_a.F for k in data_loader_a.C)\n",
    "\n",
    "#m.addConstrs((d_jkfin[i,k] <= x_ikcap[i,k]+x_ikfo[i,k]+x_ikdh[i,k])  for i in data_loader_a.F for k in data_loader_a.C)\n",
    "#m.addConstrs((d_iksta[i,k] <= x_ikcap[i,k]+x_ikfo[i,k]+x_ikdh[i,k])  for i in data_loader_a.F for k in data_loader_a.C)\n",
    "\n",
    "#第二问中其余约束\n",
    "m.addConstrs(gp.quicksum(d_jkfin[i,k]*data_loader_a.arrivetime[i] for i in data_loader_a.FD[t]) - gp.quicksum(d_iksta[i,k]*data_loader_a.leavetime[i] for i in data_loader_a.FD[t]) <= 720 for k in data_loader_a.C for t in data_loader_a.Dates )\n",
    "m.addConstrs(gp.quicksum((x_ikcap[i,k]+x_ikfo[i,k])*(data_loader_a.leavetime[i]-data_loader_a.arrivetime[i]) for i in data_loader_a.FD[t]) <= 600 for k in data_loader_a.C for t in data_loader_a.Dates )\n",
    "#m.addConstrs(gp.quicksum(d_jkfin[i,k]*data_loader_a.arrivetime[i] for i in data_loader_a.FD[t]) - gp.quicksum(d_iksta[i,k]*data_loader_a.leavetime[i] for i in data_loader_a.FD[t]) >= 0 for k in data_loader_a.C for t in data_loader_a.Dates )\n",
    "\n",
    "\n",
    "#m.addConstr(z.sum('*')==206)\n",
    "# m.addConstr(gp.quicksum(gp.quicksum(data_loader_a.DCost[k]*(gp.quicksum(d_jkfin[i,k]*data_loader_a.arrivetime[i] for i in data_loader_a.FD[t]) \n",
    "#                     - gp.quicksum(d_iksta[i,k]*data_loader_a.leavetime[i] for i in data_loader_a.FD[t]))\n",
    "#                 for k in data_loader_a.C) for t in data_loader_a.Dates )==[1324573-100000,1324573+100000])\n",
    "#对执勤时长平衡的约束（辅助目标）\n",
    "# m.addConstrs(a1>=(gp.quicksum(gp.quicksum(d_jkfin[i,k]*data_loader_a.arrivetime[i] for i in data_loader_a.FD[t]) for t in data_loader_a.Dates) - gp.quicksum(gp.quicksum(d_iksta[i,k]*data_loader_a.leavetime[i] for i in data_loader_a.FD[t]) for t in data_loader_a.Dates)) for k in data_loader_a.C)\n",
    "# m.addConstrs(a2<=(gp.quicksum(gp.quicksum(d_jkfin[i,k]*data_loader_a.arrivetime[i] for i in data_loader_a.FD[t]) for t in data_loader_a.Dates) - gp.quicksum(gp.quicksum(d_iksta[i,k]*data_loader_a.leavetime[i] for i in data_loader_a.FD[t]) for t in data_loader_a.Dates)) for k in data_loader_a.C)\n",
    "         \n",
    "#第三问\n",
    "#对W的约束\n",
    "m.addConstrs(w_ijk[i,j,k]==0 for i,j in data_loader_a.FF2 for k in data_loader_a.C)\n",
    "m.addConstrs(w_ijk[i,j,k] <= v_ijk[i,j,k] for i in data_loader_a.F for j in data_loader_a.F for k in data_loader_a.C)\n",
    "\n",
    "\n",
    "\n",
    "#对U的约束\n",
    "m.addConstrs(r_jkfin[i,k] <=gp.quicksum(u_ijk[j,i,k] for j in data_loader_a.F) for i in data_loader_a.F for k in data_loader_a.C)\n",
    "m.addConstrs(r_iksta[i,k] <=gp.quicksum(u_ijk[i,j,k] for j in data_loader_a.F) for i in data_loader_a.F for k in data_loader_a.C)\n",
    "\n",
    "m.addConstrs(gp.quicksum(u_ijk[j,i,k] for j in data_loader_a.F) <= d_jkfin[i,k] for i in data_loader_a.F for k in data_loader_a.C)\n",
    "m.addConstrs(gp.quicksum(u_ijk[i,j,k] for j in data_loader_a.F) <= d_iksta[i,k] for i in data_loader_a.F for k in data_loader_a.C)\n",
    "\n",
    "m.addConstrs(gp.quicksum(u_ijk[i,j,k] for j in data_loader_a.F)-(r_iksta[i,k] + gp.quicksum(w_ijk[j,i,k] for j in data_loader_a.F)) == 0 for i in data_loader_a.F for k in data_loader_a.C)\n",
    "m.addConstrs(gp.quicksum(u_ijk[j,i,k] for j in data_loader_a.F)-(r_jkfin[i,k] + gp.quicksum(w_ijk[i,j,k] for j in data_loader_a.F))== 0 for i in data_loader_a.F for k in data_loader_a.C)\n",
    "\n",
    "\n",
    "m.addConstrs(u_ijk[i,j,k]*(data_loader_a.leavedate[j] - data_loader_a.leavedate[i] )<= 4 for i in data_loader_a.F for j in data_loader_a.F for k in data_loader_a.C)\n",
    "#m.addConstrs(w_ijk[i,j,k]*(data_loader_a.leavedate[j] - data_loader_a.leavedate[i] )>= 2 for i in data_loader_a.F for j in data_loader_a.F for k in data_loader_a.C)\n",
    "m.addConstrs(gp.quicksum(u_ijk[i,j,k]*(data_loader_a.arrivetime[j] - data_loader_a.leavetime[i])for i in data_loader_a.F for j in data_loader_a.F )<= MaxTAFB for k in data_loader_a.C)       \n",
    "m.addConstrs(u_ijk[i,j,k]==0 for i,j in data_loader_a.FF for k in data_loader_a.C)\n",
    "\n",
    "#对执勤时长平衡的约束（辅助目标）\n",
    "# m.addConstrs(a3>=(gp.quicksum(gp.quicksum(v_ijk[i,j,k]*data_loader_a.arrivetime[j] - v_ijk[i,j,k]*data_loader_a.leavetime[i] for i in data_loader_a.FD[t] for j in data_loader_a.FD[t]) for t in data_loader_a.Dates )) for k in data_loader_a.C)\n",
    "# m.addConstrs(a4<=(gp.quicksum(gp.quicksum(v_ijk[i,j,k]*data_loader_a.arrivetime[j] - v_ijk[i,j,k]*data_loader_a.leavetime[i] for i in data_loader_a.FD[t] for j in data_loader_a.FD[t]) for t in data_loader_a.Dates )) for k in data_loader_a.C)\n",
    "\n",
    "# m.addConstr(z.sum()==64)\n",
    "# m.addConstr(gp.quicksum(gp.quicksum(data_loader_a.DCost[k]*(gp.quicksum(d_jkfin[i,k]*data_loader_a.arrivetime[i] for i in data_loader_a.FD[t]) \n",
    "#                                                           - gp.quicksum(d_iksta[i,k]*data_loader_a.leavetime[i] for i in data_loader_a.FD[t]))/60\n",
    "#                                                           for k in data_loader_a.C) for t in data_loader_a.Dates) == 175316)\n",
    "\n",
    "m.update()\n",
    "m.optimize()"
   ]
  },
  {
   "cell_type": "code",
   "execution_count": 7,
   "id": "551ba8aa",
   "metadata": {},
   "outputs": [
    {
     "name": "stdout",
     "output_type": "stream",
     "text": [
      "0: 4640\n",
      "1: 4540\n",
      "2: 3140\n",
      "3: 430\n",
      "4: 4580\n",
      "5: 1950\n",
      "6: 4640\n",
      "7: 2010\n",
      "8: 4580\n",
      "9: 3200\n",
      "10: 4565\n",
      "11: 220\n",
      "12: 3200\n",
      "13: 475\n",
      "14: 1760\n",
      "15: 1660\n",
      "16: 0\n",
      "17: 4355\n",
      "18: 4565\n",
      "19: 4575\n",
      "20: 3140\n"
     ]
    }
   ],
   "source": [
    "for k in data_loader_a.C:\n",
    "    sum1 = 0\n",
    "    for i in data_loader_a.F:\n",
    "        for j in data_loader_a.F:\n",
    "            if u_ijk[i,j,k].x > 0.9:\n",
    "                sum1 += data_loader_a.arrivetime[j] - data_loader_a.leavetime[i]\n",
    "    print(str(k)+\": \"+str(sum1))"
   ]
  },
  {
   "cell_type": "code",
   "execution_count": 8,
   "id": "a0eac7be",
   "metadata": {
    "scrolled": false
   },
   "outputs": [
    {
     "data": {
      "text/plain": [
       "{0: 20,\n",
       " 1: 20,\n",
       " 2: 20,\n",
       " 3: 20,\n",
       " 4: 20,\n",
       " 5: 20,\n",
       " 6: 20,\n",
       " 7: 20,\n",
       " 8: 20,\n",
       " 9: 20,\n",
       " 10: 20,\n",
       " 11: 20,\n",
       " 12: 20,\n",
       " 13: 20,\n",
       " 14: 20,\n",
       " 15: 20,\n",
       " 16: 20,\n",
       " 17: 20,\n",
       " 18: 20,\n",
       " 19: 20,\n",
       " 20: 20}"
      ]
     },
     "execution_count": 8,
     "metadata": {},
     "output_type": "execute_result"
    }
   ],
   "source": [
    "data_loader_a.PCost"
   ]
  },
  {
   "cell_type": "code",
   "execution_count": 9,
   "id": "5b9014b3",
   "metadata": {
    "scrolled": true
   },
   "outputs": [
    {
     "data": {
      "text/plain": [
       "{'A0016': [2],\n",
       " 'A0002': [4],\n",
       " 'A0012': [1],\n",
       " 'A0014': [1, 1],\n",
       " 'A0005': [4],\n",
       " 'A0009': [4],\n",
       " 'A0003': [3],\n",
       " 'A0021': [3],\n",
       " 'A0008': [1, 2],\n",
       " 'A0018': [4],\n",
       " 'A0011': [4],\n",
       " 'A0019': [4],\n",
       " 'A0006': [1, 2],\n",
       " 'A0004': [1, 1],\n",
       " 'A0020': [4],\n",
       " 'A0015': [2],\n",
       " 'A0010': [3],\n",
       " 'A0013': [3],\n",
       " 'A0001': [4],\n",
       " 'A0007': [4]}"
      ]
     },
     "execution_count": 9,
     "metadata": {},
     "output_type": "execute_result"
    }
   ],
   "source": [
    "loop_dic = {}\n",
    "for i in data_loader_a.F:\n",
    "    for j in data_loader_a.F:\n",
    "        for k in data_loader_a.C:\n",
    "            if u_ijk[i,j,k].x>0.9:\n",
    "                if data_loader_a.C_dic[k] in loop_dic.keys():\n",
    "                    loop_dic[data_loader_a.C_dic[k]].append(data_loader_a.leavedate[j]-data_loader_a.leavedate[i]+1)\n",
    "                else:\n",
    "                    loop_dic[data_loader_a.C_dic[k]]=[data_loader_a.leavedate[j]-data_loader_a.leavedate[i]+1]\n",
    "loop_dic"
   ]
  },
  {
   "cell_type": "code",
   "execution_count": 10,
   "id": "7a4e333f",
   "metadata": {
    "scrolled": true
   },
   "outputs": [
    {
     "data": {
      "text/plain": [
       "20741.666666666668"
      ]
     },
     "execution_count": 10,
     "metadata": {},
     "output_type": "execute_result"
    }
   ],
   "source": [
    "sum = 0\n",
    "for i in data_loader_a.F:\n",
    "    for j in data_loader_a.F:\n",
    "        for k in data_loader_a.C:\n",
    "            sum+=data_loader_a.PCost[k]*(u_ijk[i,j,k].x*data_loader_a.arrivetime[j] - u_ijk[i,j,k].x*data_loader_a.leavetime[i])/60\n",
    "sum"
   ]
  },
  {
   "cell_type": "code",
   "execution_count": 11,
   "id": "96c74ed7",
   "metadata": {},
   "outputs": [],
   "source": [
    "results_dic = {'em_no':[], 'fl_no':[], 'cls':[]}"
   ]
  },
  {
   "cell_type": "code",
   "execution_count": 12,
   "id": "724d98de",
   "metadata": {},
   "outputs": [],
   "source": [
    "for i in data_loader_a.F:\n",
    "    for k in data_loader_a.C:\n",
    "        if x_ikcap[i,k].x > 0.9:\n",
    "            results_dic['em_no'].append(k)\n",
    "            for key, value in data_loader.F_dic.items():\n",
    "                if value == data_loader_a.F_dic[i]:\n",
    "                    results_dic['fl_no'].append(key)\n",
    "                    break\n",
    "            results_dic['cls'].append(1)\n",
    "        if x_ikfo[i,k].x > 0.9:\n",
    "            results_dic['em_no'].append(k)\n",
    "            for key, value in data_loader.F_dic.items():\n",
    "                if value == data_loader_a.F_dic[i]:\n",
    "                    results_dic['fl_no'].append(key)\n",
    "                    break\n",
    "            results_dic['cls'].append(2)\n",
    "        if x_ikdh[i,k].x > 0.9:\n",
    "            results_dic['em_no'].append(k)\n",
    "            for key, value in data_loader.F_dic.items():\n",
    "                if value == data_loader_a.F_dic[i]:\n",
    "                    results_dic['fl_no'].append(key)\n",
    "                    break\n",
    "            results_dic['cls'].append(3)"
   ]
  },
  {
   "cell_type": "code",
   "execution_count": 13,
   "id": "0d9d7163",
   "metadata": {},
   "outputs": [
    {
     "name": "stdout",
     "output_type": "stream",
     "text": [
      "A0002出发于NKX乘坐FA680/11到达PGX\n",
      "A0016出发于NKX乘坐FA680/11到达PGX\n",
      "A0012出发于NKX乘坐FA680/12到达PGX\n",
      "A0005出发于NKX乘坐FA812/11到达PDK\n",
      "A0009出发于NKX乘坐FA812/11到达PDK\n",
      "A0003出发于NKX乘坐FA812/13到达PDK\n",
      "A0021出发于NKX乘坐FA812/13到达PDK\n",
      "A0008出发于NKX乘坐FA854/11到达CTH\n",
      "A0018出发于NKX乘坐FA854/11到达CTH\n",
      "A0011出发于NKX乘坐FA854/12到达CTH\n",
      "A0019出发于NKX乘坐FA854/12到达CTH\n",
      "A0006出发于NKX乘坐FA864/11到达PXB\n",
      "A0014出发于NKX乘坐FA864/11到达PXB\n",
      "A0004出发于NKX乘坐FA864/12到达PXB\n",
      "A0020出发于NKX乘坐FA864/12到达PXB\n",
      "A0001出发于NKX乘坐FA884/11到达XGS\n",
      "A0007出发于NKX乘坐FA884/11到达XGS\n",
      "A0010出发于NKX乘坐FA884/11到达XGS\n",
      "A0013出发于NKX乘坐FA884/11到达XGS\n",
      "A0015出发于NKX乘坐FA884/11到达XGS\n"
     ]
    }
   ],
   "source": [
    "for i in data_loader_a.F:\n",
    "    for k in data_loader_a.C:\n",
    "        if r_iksta[i,k].x > 0.9:\n",
    "            print(str(data_loader_a.C_dic[k])+\"出发于\"+str(data_loader_a.AP_dic[data_loader_a.F_ap_dpt_dic[i]])+\"乘坐\"+str(data_loader_a.F_dic[i])+\"到达\"+str(data_loader_a.AP_dic[data_loader_a.F_ap_arr_dic[i]]))"
   ]
  },
  {
   "cell_type": "code",
   "execution_count": 14,
   "id": "960fb76a",
   "metadata": {},
   "outputs": [
    {
     "name": "stdout",
     "output_type": "stream",
     "text": [
      "A0016乘坐FA3/12\n",
      "A0012乘坐FA681/12\n",
      "A0002乘坐FA681/14\n",
      "A0014乘坐FA681/14\n",
      "A0005乘坐FA813/14\n",
      "A0009乘坐FA813/14\n",
      "A0003乘坐FA813/15\n",
      "A0021乘坐FA813/15\n",
      "A0018乘坐FA855/14\n",
      "A0011乘坐FA855/15\n",
      "A0019乘坐FA855/15\n",
      "A0006乘坐FA865/15\n",
      "A0020乘坐FA865/15\n",
      "A0004乘坐FA873/15\n",
      "A0015乘坐FA885/12\n",
      "A0010乘坐FA885/13\n",
      "A0013乘坐FA885/13\n",
      "A0001乘坐FA885/14\n",
      "A0007乘坐FA885/14\n",
      "A0008乘坐FA885/15\n"
     ]
    },
    {
     "data": {
      "text/plain": [
       "{15: 1,\n",
       " 11: 8,\n",
       " 1: 10,\n",
       " 13: 10,\n",
       " 4: 20,\n",
       " 8: 20,\n",
       " 2: 21,\n",
       " 20: 21,\n",
       " 17: 30,\n",
       " 10: 31,\n",
       " 18: 31,\n",
       " 5: 41,\n",
       " 19: 41,\n",
       " 3: 49,\n",
       " 14: 56,\n",
       " 9: 57,\n",
       " 12: 57,\n",
       " 0: 58,\n",
       " 6: 58,\n",
       " 7: 59}"
      ]
     },
     "execution_count": 14,
     "metadata": {},
     "output_type": "execute_result"
    }
   ],
   "source": [
    "temp_leave = {}\n",
    "for i in data_loader_a.F:\n",
    "    for k in data_loader_a.C:\n",
    "        if r_jkfin[i,k].x > 0.9:\n",
    "            print(str(data_loader_a.C_dic[k])+\"乘坐\"+str(data_loader_a.F_dic[i]))\n",
    "            temp_leave[k] = i\n",
    "temp_leave"
   ]
  },
  {
   "cell_type": "code",
   "execution_count": 15,
   "id": "43e3aebf",
   "metadata": {
    "scrolled": false
   },
   "outputs": [
    {
     "name": "stdout",
     "output_type": "stream",
     "text": [
      "Counting times...(0/72)\n",
      "## Loading C\n",
      "## C loaded\n",
      "## Loading AP\n",
      "## AP loaded\n",
      "## Loading Base\n",
      "## Base loaded\n",
      "## Loading F\n",
      "## F loaded\n",
      "## Loading FF\n",
      "## FF loaded\n",
      "## Loading FF1\n",
      "## FF1 loaded\n",
      "## Loading FF2\n",
      "## FF2 loaded\n",
      "Counting times...(0/72)\n"
     ]
    }
   ],
   "source": [
    "data_loader_a2 = DataLoader('data/Data A-Crew.csv', 'data/Data A-Flight.csv')\n",
    "data_loader_a2.dump_data(cropped_date=(16, 20))"
   ]
  },
  {
   "cell_type": "code",
   "execution_count": 16,
   "id": "446fcf9c",
   "metadata": {
    "scrolled": true
   },
   "outputs": [
    {
     "data": {
      "text/plain": [
       "{0: 'FA680/16',\n",
       " 1: 'FA680/17',\n",
       " 2: 'FA680/18',\n",
       " 3: 'FA680/19',\n",
       " 4: 'FA680/20',\n",
       " 5: 'FA681/16',\n",
       " 6: 'FA681/17',\n",
       " 7: 'FA681/18',\n",
       " 8: 'FA681/19',\n",
       " 9: 'FA681/20',\n",
       " 10: 'FA812/16',\n",
       " 11: 'FA812/17',\n",
       " 12: 'FA812/18',\n",
       " 13: 'FA812/19',\n",
       " 14: 'FA812/20',\n",
       " 15: 'FA813/16',\n",
       " 16: 'FA813/17',\n",
       " 17: 'FA813/18',\n",
       " 18: 'FA813/19',\n",
       " 19: 'FA813/20',\n",
       " 20: 'FA854/16',\n",
       " 21: 'FA854/17',\n",
       " 22: 'FA854/18',\n",
       " 23: 'FA854/19',\n",
       " 24: 'FA854/20',\n",
       " 25: 'FA855/16',\n",
       " 26: 'FA855/17',\n",
       " 27: 'FA855/18',\n",
       " 28: 'FA855/19',\n",
       " 29: 'FA855/20',\n",
       " 30: 'FA864/16',\n",
       " 31: 'FA864/17',\n",
       " 32: 'FA864/18',\n",
       " 33: 'FA864/19',\n",
       " 34: 'FA864/20',\n",
       " 35: 'FA865/16',\n",
       " 36: 'FA865/17',\n",
       " 37: 'FA865/18',\n",
       " 38: 'FA865/19',\n",
       " 39: 'FA865/20',\n",
       " 40: 'FA872/16',\n",
       " 41: 'FA872/17',\n",
       " 42: 'FA872/18',\n",
       " 43: 'FA872/19',\n",
       " 44: 'FA872/20',\n",
       " 45: 'FA873/16',\n",
       " 46: 'FA873/17',\n",
       " 47: 'FA873/18',\n",
       " 48: 'FA873/19',\n",
       " 49: 'FA873/20',\n",
       " 50: 'FA884/16',\n",
       " 51: 'FA884/17',\n",
       " 52: 'FA884/18',\n",
       " 53: 'FA884/19',\n",
       " 54: 'FA884/20',\n",
       " 55: 'FA885/16',\n",
       " 56: 'FA885/17',\n",
       " 57: 'FA885/18',\n",
       " 58: 'FA885/19',\n",
       " 59: 'FA885/20',\n",
       " 60: 'FA888/18',\n",
       " 61: 'FA889/18',\n",
       " 62: 'FA890/16',\n",
       " 63: 'FA890/17',\n",
       " 64: 'FA890/18',\n",
       " 65: 'FA890/19',\n",
       " 66: 'FA890/20',\n",
       " 67: 'FA891/16',\n",
       " 68: 'FA891/17',\n",
       " 69: 'FA891/18',\n",
       " 70: 'FA891/19',\n",
       " 71: 'FA891/20'}"
      ]
     },
     "execution_count": 16,
     "metadata": {},
     "output_type": "execute_result"
    }
   ],
   "source": [
    "data_loader_a2.F_dic"
   ]
  },
  {
   "cell_type": "code",
   "execution_count": 17,
   "id": "86eed0fd",
   "metadata": {},
   "outputs": [
    {
     "ename": "KeyError",
     "evalue": "16",
     "output_type": "error",
     "traceback": [
      "\u001b[1;31m---------------------------------------------------------------------------\u001b[0m",
      "\u001b[1;31mKeyError\u001b[0m                                  Traceback (most recent call last)",
      "Cell \u001b[1;32mIn[17], line 3\u001b[0m\n\u001b[0;32m      1\u001b[0m \u001b[38;5;28;01mfor\u001b[39;00m k \u001b[38;5;129;01min\u001b[39;00m data_loader_a2\u001b[38;5;241m.\u001b[39mC:\n\u001b[0;32m      2\u001b[0m     \u001b[38;5;28;01mfor\u001b[39;00m key, value \u001b[38;5;129;01min\u001b[39;00m data_loader_a2\u001b[38;5;241m.\u001b[39mF_dic\u001b[38;5;241m.\u001b[39mitems():\n\u001b[1;32m----> 3\u001b[0m         \u001b[38;5;28;01mif\u001b[39;00m value \u001b[38;5;241m==\u001b[39m \u001b[43mtemp_leave\u001b[49m\u001b[43m[\u001b[49m\u001b[43mk\u001b[49m\u001b[43m]\u001b[49m:\n\u001b[0;32m      4\u001b[0m             temp_leave[k] \u001b[38;5;241m=\u001b[39m key\n\u001b[0;32m      5\u001b[0m             \u001b[38;5;28;01mbreak\u001b[39;00m\n",
      "\u001b[1;31mKeyError\u001b[0m: 16"
     ]
    }
   ],
   "source": [
    "for k in data_loader_a2.C:\n",
    "    for key, value in data_loader_a2.F_dic.items():\n",
    "        if value == temp_leave[k]:\n",
    "            temp_leave[k] = key\n",
    "            break"
   ]
  },
  {
   "cell_type": "code",
   "execution_count": null,
   "id": "dcd80997",
   "metadata": {},
   "outputs": [],
   "source": [
    "temp_leave"
   ]
  },
  {
   "cell_type": "code",
   "execution_count": null,
   "id": "60771072",
   "metadata": {
    "scrolled": true
   },
   "outputs": [],
   "source": [
    "for key, value in temp_leave.items():\n",
    "    print(str(data_loader_a2.C_dic[key])+\"乘坐\"+str(data_loader_a2.F_dic[value])+\"到达\"+str(data_loader_a2.AP_dic[data_loader_a2.F_ap_arr_dic[value]]))"
   ]
  },
  {
   "cell_type": "code",
   "execution_count": null,
   "id": "d3193a42",
   "metadata": {
    "scrolled": true
   },
   "outputs": [],
   "source": [
    "data_loader_a2.leavedate"
   ]
  },
  {
   "cell_type": "code",
   "execution_count": null,
   "id": "3fd1574d",
   "metadata": {},
   "outputs": [],
   "source": [
    "temp_leave_dic = {}\n",
    "MinRest = 2\n",
    "for k in data_loader_a2.C:\n",
    "    for i in data_loader_a2.F:\n",
    "        if k not in temp_leave_dic.keys():\n",
    "            temp_leave_dic[k] = []\n",
    "        if (data_loader_a2.AP_dic[data_loader_a2.F_ap_dpt_dic[i]] == 'NKX') and ((data_loader_a2.leavedate[i] - data_loader_a.leavedate[temp_leave[k]])>MinRest):#不是到达的机场\n",
    "            continue\n",
    "        else:\n",
    "            if k not in temp_leave_dic.keys(): \n",
    "                temp_leave_dic[k] = [i]\n",
    "            else:\n",
    "                temp_leave_dic[k].append(i)"
   ]
  },
  {
   "cell_type": "code",
   "execution_count": null,
   "id": "a40789a6",
   "metadata": {},
   "outputs": [],
   "source": [
    "temp_leave_dic"
   ]
  },
  {
   "cell_type": "code",
   "execution_count": null,
   "id": "cb63e0e5",
   "metadata": {},
   "outputs": [],
   "source": [
    "len(temp_leave_dic[3])"
   ]
  },
  {
   "cell_type": "markdown",
   "id": "731d0fc1",
   "metadata": {},
   "source": [
    "## 第二阶段"
   ]
  },
  {
   "cell_type": "markdown",
   "id": "600ec15c",
   "metadata": {},
   "source": [
    "### 优化目标①"
   ]
  },
  {
   "cell_type": "code",
   "execution_count": null,
   "id": "9378eb16",
   "metadata": {
    "scrolled": true
   },
   "outputs": [],
   "source": [
    "MaxTAFB = 14400 / 15 * 5\n",
    "\n",
    "m=gp.Model('m1')\n",
    "\n",
    "z=m.addVars(data_loader_a2.F,vtype=gp.GRB.BINARY,name='z')\n",
    "x_ikdh=m.addVars(data_loader_a2.F,data_loader_a2.C,vtype=gp.GRB.BINARY,name='x_dh')\n",
    "x_ikfo=m.addVars(data_loader_a2.F,data_loader_a2.C,vtype=gp.GRB.BINARY,name='x_fo')\n",
    "x_ikcap=m.addVars(data_loader_a2.F,data_loader_a2.C,vtype=gp.GRB.BINARY,name='x_cap')\n",
    "\n",
    "r_iksta=m.addVars(data_loader_a2.F,data_loader_a2.C,vtype=gp.GRB.BINARY,name='r_iksta')\n",
    "r_jkfin=m.addVars(data_loader_a2.F,data_loader_a2.C,vtype=gp.GRB.BINARY,name='r_jkfin')\n",
    "d_iksta=m.addVars(data_loader_a2.F,data_loader_a2.C,vtype=gp.GRB.BINARY,name='d_iksta')\n",
    "d_jkfin=m.addVars(data_loader_a2.F,data_loader_a2.C,vtype=gp.GRB.BINARY,name='d_jkfin')\n",
    "p_iksta=m.addVars(data_loader_a2.F,data_loader_a2.C,vtype=gp.GRB.BINARY,name='p_iksta')\n",
    "p_jkfin=m.addVars(data_loader_a2.F,data_loader_a2.C,vtype=gp.GRB.BINARY,name='p_jkfin')\n",
    "\n",
    "y_ijk=m.addVars(data_loader_a2.F,data_loader_a2.F,data_loader_a2.C,vtype=gp.GRB.BINARY,name='y_ijk')\n",
    "v_ijk=m.addVars(data_loader_a2.F,data_loader_a2.F,data_loader_a2.C,vtype=gp.GRB.BINARY,name='v_ijk')\n",
    "w_ijk=m.addVars(data_loader_a2.F,data_loader_a2.F,data_loader_a2.C,vtype=gp.GRB.BINARY,name='w_ijk')\n",
    "u_ijk=m.addVars(data_loader_a2.F,data_loader_a2.F,data_loader_a2.C,vtype=gp.GRB.BINARY,name='u_ijk')\n",
    "\n",
    "# a1=m.addVar(1,vtype=gp.GRB.INTEGER,name='a1')\n",
    "# a2=m.addVar(2,vtype=gp.GRB.INTEGER,name='a2')\n",
    "\n",
    "\n",
    "m.ModelSense=GRB.MINIMIZE\n",
    "\n",
    "m.setObjective(-z.sum())\n",
    "\n",
    "#m.setObjective(x_ikdh.sum())\n",
    "# m.setObjective(gp.quicksum(x_ikfo[i,k] for i in F for k in C2))\n",
    "# m.setObjective(gp.quicksum(gp.quicksum(data_loader_a.DCost[k]*(gp.quicksum(d_jkfin[i,k]*data_loader_a.arrivetime[i] for i in data_loader_a.FD[t]) \n",
    "#                                                                - gp.quicksum(d_iksta[i,k]*data_loader_a.leavetime[i] for i in data_loader_a.FD[t]))/60\n",
    "#                                                            for k in data_loader_a.C) for t in data_loader_a.Dates ))\n",
    "# m.setObjective(a1-a2)\n",
    "\n",
    "#m.setObjectiveN(-z.sum(),index = 0,weight =0.8)\n",
    "#m.setObjectiveN(x_ikdh.sum(),index=1,weight=0.2)\n",
    "#m.setObjectiveN(gp.quicksum(x_ikfo[i,k] for i in data_loader_a.F for k in data_loader_a.C2),index=2,weight=0.05)\n",
    "\n",
    "\n",
    "M=10000\n",
    "#对X的约束\n",
    "m.addConstrs(x_ikfo[i,k]==0 for i in data_loader_a2.F for k in data_loader_a2.C1 )\n",
    "m.addConstrs(x_ikcap[i,k]==0 for i in data_loader_a2.F for k in data_loader_a2.C3 )\n",
    "m.addConstrs(x_ikcap[i,k]+x_ikfo[i,k]+x_ikdh[i,k]<=1 for i in data_loader_a2.F for k in data_loader_a2.C)\n",
    "\n",
    "#对Z的约束\n",
    "m.addConstrs(gp.quicksum(x_ikcap[i,k]+x_ikfo[i,k]+x_ikdh[i,k] for k in data_loader_a2.C)<=M*(z[i]) for i in data_loader_a2.F)\n",
    "m.addConstrs(x_ikcap.sum(i,'*')== z[i] for i in data_loader_a2.F )\n",
    "m.addConstrs(x_ikfo.sum(i,'*')== z[i] for i in data_loader_a2.F )\n",
    "m.addConstrs(M*z[j]>=gp.quicksum(x_ikcap[j,k]+x_ikfo[j,k]+x_ikdh[j,k] for k in data_loader_a2.C) for j in data_loader_a2.F)\n",
    "\n",
    "#对Y的约束\n",
    "m.addConstrs(y_ijk[i,j,k]==0 for i,j in data_loader_a2.FF for k in data_loader_a2.C)\n",
    "#m.addConstrs(gp.quicksum(y_ijk[i,j,k] for j in F)<=x_ikcap[i,k]+x_ikfo[i,k]+x_ikdh[i,k] for i in F for k in C)\n",
    "#m.addConstrs(gp.quicksum(y_ijk[j,i,k] for j in F)<=x_ikcap[i,k]+x_ikfo[i,k]+x_ikdh[i,k] for i in F for k in C)\n",
    "\n",
    "#对roaster周期的约束\n",
    "# m.addConstrs(r_jkfin[j,k]== 0 for j in data_loader_a.nonF_arrive_base[0] for k in data_loader_a.C)\n",
    "m.addConstrs(r_iksta[i,k]== 0 for i in temp_leave_dic[k] for k in data_loader_a2.C)\n",
    "\n",
    "m.addConstrs(gp.quicksum(r_iksta[i,k] for i in data_loader_a2.F_leave_base[0] )<=1  for k in data_loader_a2.C)\n",
    "m.addConstrs(gp.quicksum(r_jkfin[j,k] for j in data_loader_a2.F_arrive_base[0] )-gp.quicksum(r_iksta[i,k] for i in data_loader_a2.F_leave_base[0] ) == 0 for k in data_loader_a2.C)\n",
    "\n",
    "#第一问中航班对应周期的约束\n",
    "m.addConstrs(1-(y_ijk.sum(i,'*',k)+r_iksta[i,k]+r_jkfin[i,k])<=M*(1-(x_ikcap[i,k]+x_ikfo[i,k]+x_ikdh[i,k])) for i in data_loader_a2.F for k in data_loader_a2.C)\n",
    "m.addConstrs(y_ijk.sum(i,'*',k)+r_jkfin[i,k]-(y_ijk.sum('*',i,k)+r_iksta[i,k]) == 0 for i in data_loader_a2.F for k in data_loader_a2.C)\n",
    "\n",
    "m.addConstrs(y_ijk.sum(i,'*',k)+r_jkfin[i,k] <= x_ikcap[i,k]+x_ikfo[i,k]+x_ikdh[i,k]  for i in data_loader_a2.F for k in data_loader_a2.C)\n",
    "m.addConstrs(y_ijk.sum('*',i,k)+r_iksta[i,k] <= x_ikcap[i,k]+x_ikfo[i,k]+x_ikdh[i,k]  for i in data_loader_a2.F for k in data_loader_a2.C)\n",
    "\n",
    "#第二问\n",
    "#对V的约束\n",
    "m.addConstrs(v_ijk[i,j,k]==0 for i,j in data_loader_a2.FF1 for k in data_loader_a2.C)\n",
    "m.addConstrs(v_ijk[i,j,k] <= y_ijk[i,j,k] for i in data_loader_a2.F for j in data_loader_a.F for k in data_loader_a2.C)\n",
    "\n",
    "\n",
    "#对duty执勤的约束\n",
    "m.addConstrs(gp.quicksum(d_iksta[i,k] for i in data_loader_a2.FD[t]) - gp.quicksum(d_jkfin[i,k] for i in data_loader_a2.FD[t]) == 0 for i in data_loader_a2.F for k in data_loader_a2.C for t in data_loader_a2.Dates)\n",
    "m.addConstrs(gp.quicksum(d_iksta[i,k] for i in data_loader_a2.FD[t])   <= gp.quicksum(x_ikcap[i,k]+x_ikfo[i,k]+x_ikdh[i,k] for i in data_loader_a2.FD[t]) for i in data_loader_a2.F for k in data_loader_a2.C for t in data_loader_a2.Dates)\n",
    "m.addConstrs(gp.quicksum(d_iksta[i,k] for i in data_loader_a2.FD[t])*M >= gp.quicksum(x_ikcap[i,k]+x_ikfo[i,k]+x_ikdh[i,k] for i in data_loader_a2.FD[t]) for k in data_loader_a2.C for t in data_loader_a2.Dates)\n",
    "\n",
    "#m.addConstrs(d_iksta[i,k] for i in data_loader_a.FD[t]  <= x_ikcap[i,k]+x_ikfo[i,k]+x_ikdh[i,k] for i in data_loader_a.FD[t] for k in data_loader_a.C for t in data_loader_a.Dates)\n",
    "\n",
    "#第二问中航班对应执勤，执勤对应周期的约束\n",
    "m.addConstrs((v_ijk.sum(i,'*',k)+ r_jkfin[i,k] ==  d_jkfin[i,k]) for i in data_loader_a2.F for k in data_loader_a2.C)\n",
    "m.addConstrs((v_ijk.sum('*',i,k)+ r_iksta[i,k] ==  d_iksta[i,k]) for i in data_loader_a2.F for k in data_loader_a2.C)\n",
    "\n",
    "#m.addConstrs((d_jkfin[i,k] <= x_ikcap[i,k]+x_ikfo[i,k]+x_ikdh[i,k])  for i in data_loader_a.F for k in data_loader_a.C)\n",
    "#m.addConstrs((d_iksta[i,k] <= x_ikcap[i,k]+x_ikfo[i,k]+x_ikdh[i,k])  for i in data_loader_a.F for k in data_loader_a.C)\n",
    "\n",
    "#第二问中其余约束\n",
    "m.addConstrs(gp.quicksum(d_jkfin[i,k]*data_loader_a2.arrivetime[i] for i in data_loader_a2.FD[t]) - gp.quicksum(d_iksta[i,k]*data_loader_a2.leavetime[i] for i in data_loader_a2.FD[t]) <= 720 for k in data_loader_a2.C for t in data_loader_a2.Dates )\n",
    "m.addConstrs(gp.quicksum((x_ikcap[i,k]+x_ikfo[i,k])*(data_loader_a2.leavetime[i]-data_loader_a2.arrivetime[i]) for i in data_loader_a2.FD[t]) <= 600 for k in data_loader_a2.C for t in data_loader_a2.Dates )\n",
    "#m.addConstrs(gp.quicksum(d_jkfin[i,k]*data_loader_a.arrivetime[i] for i in data_loader_a.FD[t]) - gp.quicksum(d_iksta[i,k]*data_loader_a.leavetime[i] for i in data_loader_a.FD[t]) >= 0 for k in data_loader_a.C for t in data_loader_a.Dates )\n",
    "\n",
    "\n",
    "#m.addConstr(z.sum('*')==206)\n",
    "# m.addConstr(gp.quicksum(gp.quicksum(data_loader_a.DCost[k]*(gp.quicksum(d_jkfin[i,k]*data_loader_a.arrivetime[i] for i in data_loader_a.FD[t]) \n",
    "#                     - gp.quicksum(d_iksta[i,k]*data_loader_a.leavetime[i] for i in data_loader_a.FD[t]))\n",
    "#                 for k in data_loader_a.C) for t in data_loader_a.Dates )==[1324573-100000,1324573+100000])\n",
    "#对执勤时长平衡的约束（辅助目标）\n",
    "# m.addConstrs(a1>=(gp.quicksum(gp.quicksum(d_jkfin[i,k]*data_loader_a.arrivetime[i] for i in data_loader_a.FD[t]) for t in data_loader_a.Dates) - gp.quicksum(gp.quicksum(d_iksta[i,k]*data_loader_a.leavetime[i] for i in data_loader_a.FD[t]) for t in data_loader_a.Dates)) for k in data_loader_a.C)\n",
    "# m.addConstrs(a2<=(gp.quicksum(gp.quicksum(d_jkfin[i,k]*data_loader_a.arrivetime[i] for i in data_loader_a.FD[t]) for t in data_loader_a.Dates) - gp.quicksum(gp.quicksum(d_iksta[i,k]*data_loader_a.leavetime[i] for i in data_loader_a.FD[t]) for t in data_loader_a.Dates)) for k in data_loader_a.C)\n",
    "         \n",
    "#第三问\n",
    "#对W的约束\n",
    "m.addConstrs(w_ijk[i,j,k]==0 for i,j in data_loader_a2.FF2 for k in data_loader_a2.C)\n",
    "m.addConstrs(w_ijk[i,j,k] <= v_ijk[i,j,k] for i in data_loader_a2.F for j in data_loader_a2.F for k in data_loader_a2.C)\n",
    "\n",
    "\n",
    "\n",
    "#对U的约束\n",
    "m.addConstrs(r_jkfin[i,k] <=gp.quicksum(u_ijk[j,i,k] for j in data_loader_a2.F) for i in data_loader_a2.F for k in data_loader_a2.C)\n",
    "m.addConstrs(r_iksta[i,k] <=gp.quicksum(u_ijk[i,j,k] for j in data_loader_a2.F) for i in data_loader_a2.F for k in data_loader_a2.C)\n",
    "\n",
    "m.addConstrs(gp.quicksum(u_ijk[j,i,k] for j in data_loader_a2.F) <= d_jkfin[i,k] for i in data_loader_a2.F for k in data_loader_a2.C)\n",
    "m.addConstrs(gp.quicksum(u_ijk[i,j,k] for j in data_loader_a2.F) <= d_iksta[i,k] for i in data_loader_a2.F for k in data_loader_a2.C)\n",
    "\n",
    "m.addConstrs(gp.quicksum(u_ijk[i,j,k] for j in data_loader_a2.F)-(r_iksta[i,k] + gp.quicksum(w_ijk[j,i,k] for j in data_loader_a2.F)) == 0 for i in data_loader_a2.F for k in data_loader_a2.C)\n",
    "m.addConstrs(gp.quicksum(u_ijk[j,i,k] for j in data_loader_a2.F)-(r_jkfin[i,k] + gp.quicksum(w_ijk[i,j,k] for j in data_loader_a2.F))== 0 for i in data_loader_a2.F for k in data_loader_a2.C)\n",
    "\n",
    "\n",
    "m.addConstrs(u_ijk[i,j,k]*(data_loader_a2.leavedate[j] - data_loader_a2.leavedate[i] )<= 4 for i in data_loader_a2.F for j in data_loader_a2.F for k in data_loader_a2.C)\n",
    "#m.addConstrs(w_ijk[i,j,k]*(data_loader_a.leavedate[j] - data_loader_a.leavedate[i] )>= 2 for i in data_loader_a.F for j in data_loader_a.F for k in data_loader_a.C)\n",
    "m.addConstrs(gp.quicksum(u_ijk[i,j,k]*(data_loader_a2.arrivetime[j] - data_loader_a2.leavetime[i])for i in data_loader_a2.F for j in data_loader_a2.F )<= MaxTAFB for k in data_loader_a2.C)       \n",
    "m.addConstrs(u_ijk[i,j,k]==0 for i,j in data_loader_a2.FF for k in data_loader_a2.C)\n",
    "\n",
    "# m.addConstr(z.sum()==58)\n",
    "\n",
    "m.update()\n",
    "m.optimize()"
   ]
  },
  {
   "cell_type": "code",
   "execution_count": null,
   "id": "2f7c47a7",
   "metadata": {},
   "outputs": [],
   "source": [
    "for k in data_loader_a2.C:\n",
    "    sum1 = 0\n",
    "    for i in data_loader_a2.F:\n",
    "        for j in data_loader_a2.F:\n",
    "            if u_ijk[i,j,k].x > 0.9:\n",
    "                sum1 += data_loader_a2.arrivetime[j] - data_loader_a2.leavetime[i]\n",
    "    print(str(k)+\": \"+str(sum1))"
   ]
  },
  {
   "cell_type": "code",
   "execution_count": null,
   "id": "8ba89d3f",
   "metadata": {},
   "outputs": [],
   "source": [
    "loop_dic={'A0003': [2, 1],\n",
    " 'A0004': [2, 1],\n",
    " 'A0001': [1, 2],\n",
    " 'A0013': [2, 1],\n",
    " 'A0021': [4],\n",
    " 'A0015': [4],\n",
    " 'A0008': [4],\n",
    " 'A0019': [2, 1],\n",
    " 'A0002': [1, 2],\n",
    " 'A0009': [4],\n",
    " 'A0020': [4],\n",
    " 'A0010': [4],\n",
    " 'A0005': [4],\n",
    " 'A0006': [4],\n",
    " 'A0018': [4],\n",
    " 'A0012': [1, 2],\n",
    " 'A0011': [4],\n",
    " 'A0017': [4],\n",
    " 'A0007': [4],\n",
    " 'A0014': [4],\n",
    " 'A0016': [4]}"
   ]
  },
  {
   "cell_type": "code",
   "execution_count": null,
   "id": "87c7f440",
   "metadata": {},
   "outputs": [],
   "source": [
    "for i in data_loader_a2.F:\n",
    "    for j in data_loader_a2.F:\n",
    "        for k in data_loader_a2.C:\n",
    "            if u_ijk[i,j,k].x>0.9:\n",
    "                if data_loader_a2.C_dic[k] in loop_dic.keys():\n",
    "                    loop_dic[data_loader_a2.C_dic[k]].append(data_loader_a2.leavedate[j]-data_loader_a2.leavedate[i]+1)\n",
    "                else:\n",
    "                    loop_dic[data_loader_a2.C_dic[k]]=[data_loader_a2.leavedate[j]-data_loader_a2.leavedate[i]+1]\n",
    "loop_dic"
   ]
  },
  {
   "cell_type": "code",
   "execution_count": null,
   "id": "909d841d",
   "metadata": {},
   "outputs": [],
   "source": [
    "sum = 0\n",
    "for i in data_loader_a2.F:\n",
    "    for j in data_loader_a2.F:\n",
    "        for k in data_loader_a2.C:\n",
    "                sum+=data_loader_a2.PCost[k]*(u_ijk[i,j,k].x*data_loader_a2.arrivetime[j] - u_ijk[i,j,k].x*data_loader_a2.leavetime[i])/60\n",
    "sum"
   ]
  },
  {
   "cell_type": "code",
   "execution_count": null,
   "id": "7b77db11",
   "metadata": {},
   "outputs": [],
   "source": [
    "for i in data_loader_a2.F:\n",
    "    for k in data_loader_a2.C:\n",
    "        if x_ikcap[i,k].x > 0.9:\n",
    "            results_dic['em_no'].append(k)\n",
    "            for key, value in data_loader.F_dic.items():\n",
    "                if value == data_loader_a2.F_dic[i]:\n",
    "                    results_dic['fl_no'].append(key)\n",
    "                    break\n",
    "            results_dic['cls'].append(1)\n",
    "        if x_ikfo[i,k].x > 0.9:\n",
    "            results_dic['em_no'].append(k)\n",
    "            for key, value in data_loader.F_dic.items():\n",
    "                if value == data_loader_a2.F_dic[i]:\n",
    "                    results_dic['fl_no'].append(key)\n",
    "                    break\n",
    "            results_dic['cls'].append(2)\n",
    "        if x_ikdh[i,k].x > 0.9:\n",
    "            results_dic['em_no'].append(k)\n",
    "            for key, value in data_loader.F_dic.items():\n",
    "                if value == data_loader_a2.F_dic[i]:\n",
    "                    results_dic['fl_no'].append(key)\n",
    "                    break\n",
    "            results_dic['cls'].append(3)"
   ]
  },
  {
   "cell_type": "code",
   "execution_count": null,
   "id": "95de501b",
   "metadata": {
    "scrolled": false
   },
   "outputs": [],
   "source": [
    "data_loader_a3 = DataLoader('data/Data A-Crew.csv', 'data/Data A-Flight.csv')\n",
    "data_loader_a3.dump_data(cropped_date=(21, 25))"
   ]
  },
  {
   "cell_type": "code",
   "execution_count": null,
   "id": "bf5fa2bb",
   "metadata": {},
   "outputs": [],
   "source": [
    "for i in data_loader_a3.F:\n",
    "    for k in data_loader_a3.C:\n",
    "        if r_iksta[i,k].x > 0.9:\n",
    "            print(str(data_loader_a3.C_dic[k])+\"乘坐\"+str(data_loader_a3.F_dic[i]))"
   ]
  },
  {
   "cell_type": "code",
   "execution_count": null,
   "id": "cb778a5d",
   "metadata": {},
   "outputs": [],
   "source": [
    "data_loader_a3.C"
   ]
  },
  {
   "cell_type": "code",
   "execution_count": null,
   "id": "1d16fdbc",
   "metadata": {
    "scrolled": true
   },
   "outputs": [],
   "source": [
    "temp_leave = {}\n",
    "for i in data_loader_a3.F:\n",
    "    for k in data_loader_a3.C:\n",
    "        if r_jkfin[i,k].x > 0.9:\n",
    "            print(str(data_loader_a3.C_dic[k])+\"乘坐\"+str(data_loader_a3.F_dic[i]))\n",
    "            temp_leave[k] = i\n",
    "temp_leave"
   ]
  },
  {
   "cell_type": "code",
   "execution_count": null,
   "id": "ea5d0452",
   "metadata": {},
   "outputs": [],
   "source": [
    "data_loader_a3.AP_dic"
   ]
  },
  {
   "cell_type": "code",
   "execution_count": null,
   "id": "e2cce333",
   "metadata": {
    "scrolled": true
   },
   "outputs": [],
   "source": [
    "data_loader_a3.F_ap_dpt_dic"
   ]
  },
  {
   "cell_type": "code",
   "execution_count": null,
   "id": "6ef90a5b",
   "metadata": {
    "scrolled": true
   },
   "outputs": [],
   "source": [
    "data_loader_a3.leavedate"
   ]
  },
  {
   "cell_type": "code",
   "execution_count": null,
   "id": "5da619d4",
   "metadata": {
    "scrolled": true
   },
   "outputs": [],
   "source": [
    "data_loader_a2.leavedate"
   ]
  },
  {
   "cell_type": "code",
   "execution_count": null,
   "id": "a0b28208",
   "metadata": {
    "scrolled": true
   },
   "outputs": [],
   "source": [
    "temp_leave"
   ]
  },
  {
   "cell_type": "code",
   "execution_count": null,
   "id": "4c937ab0",
   "metadata": {},
   "outputs": [],
   "source": [
    "temp_leave_dic = {}\n",
    "MinRest = 2\n",
    "for k in data_loader_a3.C:\n",
    "    for i in data_loader_a3.F:\n",
    "        if k not in temp_leave.keys():\n",
    "            temp_leave_dic[k] = []\n",
    "            continue\n",
    "        if ((data_loader_a3.AP_dic[data_loader_a3.F_ap_dpt_dic[i]] == 'NKX') and ((data_loader_a3.leavedate[i] - data_loader_a2.leavedate[temp_leave[k]])>MinRest)):#不是到达的机场\n",
    "            continue\n",
    "        else:\n",
    "            if k not in temp_leave_dic.keys(): \n",
    "                temp_leave_dic[k] = [i]\n",
    "            else:\n",
    "                temp_leave_dic[k].append(i)"
   ]
  },
  {
   "cell_type": "markdown",
   "id": "a7ba865a",
   "metadata": {},
   "source": [
    "## 第三阶段"
   ]
  },
  {
   "cell_type": "markdown",
   "id": "78196ee3",
   "metadata": {},
   "source": [
    "### 优化目标①"
   ]
  },
  {
   "cell_type": "code",
   "execution_count": null,
   "id": "0113b4b8",
   "metadata": {},
   "outputs": [],
   "source": [
    "MaxTAFB = 14400 / 15 * 5\n",
    "\n",
    "m=gp.Model('m1')\n",
    "\n",
    "z=m.addVars(data_loader_a3.F,vtype=gp.GRB.BINARY,name='z')\n",
    "x_ikdh=m.addVars(data_loader_a3.F,data_loader_a3.C,vtype=gp.GRB.BINARY,name='x_dh')\n",
    "x_ikfo=m.addVars(data_loader_a3.F,data_loader_a3.C,vtype=gp.GRB.BINARY,name='x_fo')\n",
    "x_ikcap=m.addVars(data_loader_a3.F,data_loader_a3.C,vtype=gp.GRB.BINARY,name='x_cap')\n",
    "\n",
    "r_iksta=m.addVars(data_loader_a3.F,data_loader_a3.C,vtype=gp.GRB.BINARY,name='r_iksta')\n",
    "r_jkfin=m.addVars(data_loader_a3.F,data_loader_a3.C,vtype=gp.GRB.BINARY,name='r_jkfin')\n",
    "d_iksta=m.addVars(data_loader_a3.F,data_loader_a3.C,vtype=gp.GRB.BINARY,name='d_iksta')\n",
    "d_jkfin=m.addVars(data_loader_a3.F,data_loader_a3.C,vtype=gp.GRB.BINARY,name='d_jkfin')\n",
    "p_iksta=m.addVars(data_loader_a3.F,data_loader_a3.C,vtype=gp.GRB.BINARY,name='p_iksta')\n",
    "p_jkfin=m.addVars(data_loader_a3.F,data_loader_a3.C,vtype=gp.GRB.BINARY,name='p_jkfin')\n",
    "\n",
    "y_ijk=m.addVars(data_loader_a3.F,data_loader_a3.F,data_loader_a3.C,vtype=gp.GRB.BINARY,name='y_ijk')\n",
    "v_ijk=m.addVars(data_loader_a3.F,data_loader_a3.F,data_loader_a3.C,vtype=gp.GRB.BINARY,name='v_ijk')\n",
    "w_ijk=m.addVars(data_loader_a3.F,data_loader_a3.F,data_loader_a3.C,vtype=gp.GRB.BINARY,name='w_ijk')\n",
    "u_ijk=m.addVars(data_loader_a3.F,data_loader_a3.F,data_loader_a3.C,vtype=gp.GRB.BINARY,name='u_ijk')\n",
    "\n",
    "# a1=m.addVar(1,vtype=gp.GRB.INTEGER,name='a1')\n",
    "# a2=m.addVar(2,vtype=gp.GRB.INTEGER,name='a2')\n",
    "\n",
    "\n",
    "m.ModelSense=GRB.MINIMIZE\n",
    "\n",
    "m.setObjective(-z.sum())\n",
    "\n",
    "#m.setObjective(x_ikdh.sum())\n",
    "# m.setObjective(gp.quicksum(x_ikfo[i,k] for i in F for k in C2))\n",
    "# m.setObjective(gp.quicksum(gp.quicksum(data_loader_a.DCost[k]*(gp.quicksum(d_jkfin[i,k]*data_loader_a.arrivetime[i] for i in data_loader_a.FD[t]) \n",
    "#                                                                - gp.quicksum(d_iksta[i,k]*data_loader_a.leavetime[i] for i in data_loader_a.FD[t]))\n",
    "#                                                            for k in data_loader_a.C) for t in data_loader_a.Dates ))\n",
    "# m.setObjective(a1-a2)\n",
    "\n",
    "#m.setObjectiveN(-z.sum(),index = 0,weight =0.8)\n",
    "#m.setObjectiveN(x_ikdh.sum(),index=1,weight=0.2)\n",
    "#m.setObjectiveN(gp.quicksum(x_ikfo[i,k] for i in data_loader_a.F for k in data_loader_a.C2),index=2,weight=0.05)\n",
    "\n",
    "\n",
    "M=10000\n",
    "#对X的约束\n",
    "m.addConstrs(x_ikfo[i,k]==0 for i in data_loader_a3.F for k in data_loader_a3.C1 )\n",
    "m.addConstrs(x_ikcap[i,k]==0 for i in data_loader_a3.F for k in data_loader_a3.C3 )\n",
    "m.addConstrs(x_ikcap[i,k]+x_ikfo[i,k]+x_ikdh[i,k]<=1 for i in data_loader_a3.F for k in data_loader_a3.C)\n",
    "\n",
    "#对Z的约束\n",
    "m.addConstrs(gp.quicksum(x_ikcap[i,k]+x_ikfo[i,k]+x_ikdh[i,k] for k in data_loader_a3.C)<=M*(z[i]) for i in data_loader_a3.F)\n",
    "m.addConstrs(x_ikcap.sum(i,'*')== z[i] for i in data_loader_a3.F )\n",
    "m.addConstrs(x_ikfo.sum(i,'*')== z[i] for i in data_loader_a3.F )\n",
    "m.addConstrs(M*z[j]>=gp.quicksum(x_ikcap[j,k]+x_ikfo[j,k]+x_ikdh[j,k] for k in data_loader_a3.C) for j in data_loader_a3.F)\n",
    "\n",
    "#对Y的约束\n",
    "m.addConstrs(y_ijk[i,j,k]==0 for i,j in data_loader_a3.FF for k in data_loader_a3.C)\n",
    "#m.addConstrs(gp.quicksum(y_ijk[i,j,k] for j in F)<=x_ikcap[i,k]+x_ikfo[i,k]+x_ikdh[i,k] for i in F for k in C)\n",
    "#m.addConstrs(gp.quicksum(y_ijk[j,i,k] for j in F)<=x_ikcap[i,k]+x_ikfo[i,k]+x_ikdh[i,k] for i in F for k in C)\n",
    "\n",
    "#对roaster周期的约束\n",
    "# m.addConstrs(r_jkfin[j,k]== 0 for j in data_loader_a.nonF_arrive_base[0] for k in data_loader_a.C)\n",
    "m.addConstrs(r_iksta[i,k]== 0 for i in temp_leave_dic[k] for k in data_loader_a3.C)\n",
    "\n",
    "m.addConstrs(gp.quicksum(r_iksta[i,k] for i in data_loader_a3.F_leave_base[0] )<=1  for k in data_loader_a3.C)\n",
    "m.addConstrs(gp.quicksum(r_jkfin[j,k] for j in data_loader_a3.F_arrive_base[0] )-gp.quicksum(r_iksta[i,k] for i in data_loader_a3.F_leave_base[0] ) == 0 for k in data_loader_a3.C)\n",
    "\n",
    "#第一问中航班对应周期的约束\n",
    "m.addConstrs(1-(y_ijk.sum(i,'*',k)+r_iksta[i,k]+r_jkfin[i,k])<=M*(1-(x_ikcap[i,k]+x_ikfo[i,k]+x_ikdh[i,k])) for i in data_loader_a3.F for k in data_loader_a3.C)\n",
    "m.addConstrs(y_ijk.sum(i,'*',k)+r_jkfin[i,k]-(y_ijk.sum('*',i,k)+r_iksta[i,k]) == 0 for i in data_loader_a3.F for k in data_loader_a3.C)\n",
    "\n",
    "m.addConstrs(y_ijk.sum(i,'*',k)+r_jkfin[i,k] <= x_ikcap[i,k]+x_ikfo[i,k]+x_ikdh[i,k]  for i in data_loader_a3.F for k in data_loader_a3.C)\n",
    "m.addConstrs(y_ijk.sum('*',i,k)+r_iksta[i,k] <= x_ikcap[i,k]+x_ikfo[i,k]+x_ikdh[i,k]  for i in data_loader_a3.F for k in data_loader_a3.C)\n",
    "\n",
    "#第二问\n",
    "#对V的约束\n",
    "m.addConstrs(v_ijk[i,j,k]==0 for i,j in data_loader_a3.FF1 for k in data_loader_a3.C)\n",
    "m.addConstrs(v_ijk[i,j,k] <= y_ijk[i,j,k] for i in data_loader_a3.F for j in data_loader_a.F for k in data_loader_a3.C)\n",
    "\n",
    "\n",
    "#对duty执勤的约束\n",
    "m.addConstrs(gp.quicksum(d_iksta[i,k] for i in data_loader_a3.FD[t]) - gp.quicksum(d_jkfin[i,k] for i in data_loader_a3.FD[t]) == 0 for i in data_loader_a3.F for k in data_loader_a3.C for t in data_loader_a3.Dates)\n",
    "m.addConstrs(gp.quicksum(d_iksta[i,k] for i in data_loader_a3.FD[t])   <= gp.quicksum(x_ikcap[i,k]+x_ikfo[i,k]+x_ikdh[i,k] for i in data_loader_a3.FD[t]) for i in data_loader_a3.F for k in data_loader_a3.C for t in data_loader_a3.Dates)\n",
    "m.addConstrs(gp.quicksum(d_iksta[i,k] for i in data_loader_a3.FD[t])*M >= gp.quicksum(x_ikcap[i,k]+x_ikfo[i,k]+x_ikdh[i,k] for i in data_loader_a3.FD[t]) for k in data_loader_a3.C for t in data_loader_a3.Dates)\n",
    "\n",
    "#m.addConstrs(d_iksta[i,k] for i in data_loader_a.FD[t]  <= x_ikcap[i,k]+x_ikfo[i,k]+x_ikdh[i,k] for i in data_loader_a.FD[t] for k in data_loader_a.C for t in data_loader_a.Dates)\n",
    "\n",
    "#第二问中航班对应执勤，执勤对应周期的约束\n",
    "m.addConstrs((v_ijk.sum(i,'*',k)+ r_jkfin[i,k] ==  d_jkfin[i,k]) for i in data_loader_a3.F for k in data_loader_a3.C)\n",
    "m.addConstrs((v_ijk.sum('*',i,k)+ r_iksta[i,k] ==  d_iksta[i,k]) for i in data_loader_a3.F for k in data_loader_a3.C)\n",
    "\n",
    "#m.addConstrs((d_jkfin[i,k] <= x_ikcap[i,k]+x_ikfo[i,k]+x_ikdh[i,k])  for i in data_loader_a.F for k in data_loader_a.C)\n",
    "#m.addConstrs((d_iksta[i,k] <= x_ikcap[i,k]+x_ikfo[i,k]+x_ikdh[i,k])  for i in data_loader_a.F for k in data_loader_a.C)\n",
    "\n",
    "#第二问中其余约束\n",
    "m.addConstrs(gp.quicksum(d_jkfin[i,k]*data_loader_a3.arrivetime[i] for i in data_loader_a3.FD[t]) - gp.quicksum(d_iksta[i,k]*data_loader_a3.leavetime[i] for i in data_loader_a3.FD[t]) <= 720 for k in data_loader_a3.C for t in data_loader_a3.Dates )\n",
    "m.addConstrs(gp.quicksum((x_ikcap[i,k]+x_ikfo[i,k])*(data_loader_a3.leavetime[i]-data_loader_a3.arrivetime[i]) for i in data_loader_a3.FD[t]) <= 600 for k in data_loader_a3.C for t in data_loader_a3.Dates )\n",
    "#m.addConstrs(gp.quicksum(d_jkfin[i,k]*data_loader_a.arrivetime[i] for i in data_loader_a.FD[t]) - gp.quicksum(d_iksta[i,k]*data_loader_a.leavetime[i] for i in data_loader_a.FD[t]) >= 0 for k in data_loader_a.C for t in data_loader_a.Dates )\n",
    "\n",
    "\n",
    "#m.addConstr(z.sum('*')==206)\n",
    "# m.addConstr(gp.quicksum(gp.quicksum(data_loader_a.DCost[k]*(gp.quicksum(d_jkfin[i,k]*data_loader_a.arrivetime[i] for i in data_loader_a.FD[t]) \n",
    "#                     - gp.quicksum(d_iksta[i,k]*data_loader_a.leavetime[i] for i in data_loader_a.FD[t]))\n",
    "#                 for k in data_loader_a.C) for t in data_loader_a.Dates )==[1324573-100000,1324573+100000])\n",
    "#对执勤时长平衡的约束（辅助目标）\n",
    "# m.addConstrs(a1>=(gp.quicksum(gp.quicksum(d_jkfin[i,k]*data_loader_a.arrivetime[i] for i in data_loader_a.FD[t]) for t in data_loader_a.Dates) - gp.quicksum(gp.quicksum(d_iksta[i,k]*data_loader_a.leavetime[i] for i in data_loader_a.FD[t]) for t in data_loader_a.Dates)) for k in data_loader_a.C)\n",
    "# m.addConstrs(a2<=(gp.quicksum(gp.quicksum(d_jkfin[i,k]*data_loader_a.arrivetime[i] for i in data_loader_a.FD[t]) for t in data_loader_a.Dates) - gp.quicksum(gp.quicksum(d_iksta[i,k]*data_loader_a.leavetime[i] for i in data_loader_a.FD[t]) for t in data_loader_a.Dates)) for k in data_loader_a.C)\n",
    "         \n",
    "#第三问\n",
    "#对W的约束\n",
    "m.addConstrs(w_ijk[i,j,k]==0 for i,j in data_loader_a3.FF2 for k in data_loader_a3.C)\n",
    "m.addConstrs(w_ijk[i,j,k] <= v_ijk[i,j,k] for i in data_loader_a3.F for j in data_loader_a3.F for k in data_loader_a3.C)\n",
    "\n",
    "\n",
    "\n",
    "#对U的约束\n",
    "m.addConstrs(r_jkfin[i,k] <=gp.quicksum(u_ijk[j,i,k] for j in data_loader_a3.F) for i in data_loader_a3.F for k in data_loader_a3.C)\n",
    "m.addConstrs(r_iksta[i,k] <=gp.quicksum(u_ijk[i,j,k] for j in data_loader_a3.F) for i in data_loader_a3.F for k in data_loader_a3.C)\n",
    "\n",
    "m.addConstrs(gp.quicksum(u_ijk[j,i,k] for j in data_loader_a3.F) <= d_jkfin[i,k] for i in data_loader_a3.F for k in data_loader_a3.C)\n",
    "m.addConstrs(gp.quicksum(u_ijk[i,j,k] for j in data_loader_a3.F) <= d_iksta[i,k] for i in data_loader_a3.F for k in data_loader_a3.C)\n",
    "\n",
    "m.addConstrs(gp.quicksum(u_ijk[i,j,k] for j in data_loader_a3.F)-(r_iksta[i,k] + gp.quicksum(w_ijk[j,i,k] for j in data_loader_a3.F)) == 0 for i in data_loader_a3.F for k in data_loader_a3.C)\n",
    "m.addConstrs(gp.quicksum(u_ijk[j,i,k] for j in data_loader_a3.F)-(r_jkfin[i,k] + gp.quicksum(w_ijk[i,j,k] for j in data_loader_a3.F))== 0 for i in data_loader_a3.F for k in data_loader_a3.C)\n",
    "\n",
    "\n",
    "m.addConstrs(u_ijk[i,j,k]*(data_loader_a3.leavedate[j] - data_loader_a3.leavedate[i] )<= 4 for i in data_loader_a3.F for j in data_loader_a3.F for k in data_loader_a3.C)\n",
    "#m.addConstrs(w_ijk[i,j,k]*(data_loader_a.leavedate[j] - data_loader_a.leavedate[i] )>= 2 for i in data_loader_a.F for j in data_loader_a.F for k in data_loader_a.C)\n",
    "m.addConstrs(gp.quicksum(u_ijk[i,j,k]*(data_loader_a3.arrivetime[j] - data_loader_a3.leavetime[i])for i in data_loader_a3.F for j in data_loader_a3.F )<= MaxTAFB for k in data_loader_a3.C)       \n",
    "m.addConstrs(u_ijk[i,j,k]==0 for i,j in data_loader_a3.FF for k in data_loader_a3.C)\n",
    "\n",
    "m.update()\n",
    "m.optimize()"
   ]
  },
  {
   "cell_type": "markdown",
   "id": "9f7648e1",
   "metadata": {},
   "source": [
    "# 结果计算与导出"
   ]
  },
  {
   "cell_type": "code",
   "execution_count": null,
   "id": "0f2aa28b",
   "metadata": {
    "scrolled": true
   },
   "outputs": [],
   "source": [
    "for k in data_loader_a3.C:\n",
    "    sum1 = 0\n",
    "    for i in data_loader_a3.F:\n",
    "        for j in data_loader_a3.F:\n",
    "            if u_ijk[i,j,k].x > 0.9:\n",
    "                sum1 += data_loader_a3.arrivetime[j] - data_loader_a3.leavetime[i]"
   ]
  },
  {
   "cell_type": "code",
   "execution_count": null,
   "id": "3ff6d8eb",
   "metadata": {},
   "outputs": [],
   "source": [
    "for i in data_loader_a3.F:\n",
    "    for j in data_loader_a3.F:\n",
    "        for k in data_loader_a3.C:\n",
    "            if u_ijk[i,j,k].x>0.9:\n",
    "                if data_loader_a3.C_dic[k] in loop_dic.keys():\n",
    "                    loop_dic[data_loader_a3.C_dic[k]].append(data_loader_a3.leavedate[j]-data_loader_a3.leavedate[i]+1)\n",
    "                else:\n",
    "                    loop_dic[data_loader_a3.C_dic[k]] = [data_loader_a3.leavedate[j]-data_loader_a3.leavedate[i]+1]"
   ]
  },
  {
   "cell_type": "code",
   "execution_count": null,
   "id": "4c37d7e7",
   "metadata": {},
   "outputs": [],
   "source": [
    "sum = 0\n",
    "for i in data_loader_a3.F:\n",
    "    for j in data_loader_a3.F:\n",
    "        for k in data_loader_a3.C:\n",
    "            sum+=data_loader_a3.PCost[k]*(u_ijk[i,j,k].x*data_loader_a3.arrivetime[j] - u_ijk[i,j,k].x*data_loader_a3.leavetime[i])/60"
   ]
  },
  {
   "cell_type": "code",
   "execution_count": null,
   "id": "a1a1f95a",
   "metadata": {},
   "outputs": [],
   "source": [
    "for i in data_loader_a3.F:\n",
    "    for k in data_loader_a3.C:\n",
    "        if x_ikcap[i,k].x > 0.9:\n",
    "            results_dic['em_no'].append(k)\n",
    "            for key, value in data_loader.F_dic.items():\n",
    "                if value == data_loader_a3.F_dic[i]:\n",
    "                    results_dic['fl_no'].append(key)\n",
    "                    break\n",
    "            results_dic['cls'].append(1)\n",
    "        if x_ikfo[i,k].x > 0.9:\n",
    "            results_dic['em_no'].append(k)\n",
    "            for key, value in data_loader.F_dic.items():\n",
    "                if value == data_loader_a3.F_dic[i]:\n",
    "                    results_dic['fl_no'].append(key)\n",
    "                    break\n",
    "            results_dic['cls'].append(2)\n",
    "        if x_ikdh[i,k].x > 0.9:\n",
    "            results_dic['em_no'].append(k)\n",
    "            for key, value in data_loader.F_dic.items():\n",
    "                if value == data_loader_a3.F_dic[i]:\n",
    "                    results_dic['fl_no'].append(key)\n",
    "                    break\n",
    "            results_dic['cls'].append(3)"
   ]
  },
  {
   "cell_type": "code",
   "execution_count": null,
   "id": "9a96eead",
   "metadata": {},
   "outputs": [],
   "source": [
    "counter = {1:0,2:0,3:0,4:0}\n",
    "for i in range(5): \n",
    "    for ls in loop_dic.values():\n",
    "        for t in ls:\n",
    "            counter[t] += 1"
   ]
  },
  {
   "cell_type": "code",
   "execution_count": null,
   "id": "da0b655b",
   "metadata": {},
   "outputs": [],
   "source": [
    "from ResultViewer import RViewer\n",
    "import pandas as pd"
   ]
  },
  {
   "cell_type": "code",
   "execution_count": null,
   "id": "ffc2d721",
   "metadata": {},
   "outputs": [],
   "source": [
    "df = pd.DataFrame(results_dic)\n",
    "df"
   ]
  },
  {
   "cell_type": "code",
   "execution_count": null,
   "id": "b909ecf6",
   "metadata": {},
   "outputs": [],
   "source": [
    "rv = RViewer(data_loader, data_cls='a')\n",
    "rv.load_results_from_df(df)"
   ]
  },
  {
   "cell_type": "code",
   "execution_count": null,
   "id": "921773b1",
   "metadata": {},
   "outputs": [],
   "source": [
    "df_a = rv.get_results_df_a()\n",
    "df_a"
   ]
  },
  {
   "cell_type": "code",
   "execution_count": null,
   "id": "061ce290",
   "metadata": {},
   "outputs": [],
   "source": [
    "df_a.to_csv('results/q3_a_UnconveredFlights.csv', index=0)"
   ]
  },
  {
   "cell_type": "code",
   "execution_count": null,
   "id": "148d4bf2",
   "metadata": {},
   "outputs": [],
   "source": [
    "df_b = rv.get_results_df_b()\n",
    "df_b"
   ]
  },
  {
   "cell_type": "code",
   "execution_count": null,
   "id": "b0b34be7",
   "metadata": {},
   "outputs": [],
   "source": [
    "df_b.to_csv('results/q3_a_CrewRosters.csv', index=0)"
   ]
  },
  {
   "cell_type": "code",
   "execution_count": null,
   "id": "eff0afd9",
   "metadata": {},
   "outputs": [],
   "source": [
    "rv.draw_ef_gantt(save='results/q3_a.png')"
   ]
  }
 ],
 "metadata": {
  "kernelspec": {
   "display_name": "Python 3 (ipykernel)",
   "language": "python",
   "name": "python3"
  },
  "language_info": {
   "codemirror_mode": {
    "name": "ipython",
    "version": 3
   },
   "file_extension": ".py",
   "mimetype": "text/x-python",
   "name": "python",
   "nbconvert_exporter": "python",
   "pygments_lexer": "ipython3",
   "version": "3.10.9"
  }
 },
 "nbformat": 4,
 "nbformat_minor": 5
}
