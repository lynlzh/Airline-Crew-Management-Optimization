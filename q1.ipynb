{
 "cells": [
  {
   "cell_type": "code",
   "execution_count": 16,
   "id": "6fae82b0",
   "metadata": {},
   "outputs": [],
   "source": [
    "from preprocessing import DataLoader\n",
    "from matplotlib import pyplot as plt"
   ]
  },
  {
   "cell_type": "markdown",
   "id": "6382b558",
   "metadata": {},
   "source": [
    "# 数据读取"
   ]
  },
  {
   "cell_type": "code",
   "execution_count": 17,
   "id": "4b56abca",
   "metadata": {},
   "outputs": [],
   "source": [
    "data_loader_a = DataLoader('data/Data A-Crew.csv', 'data/Data A-Flight.csv')"
   ]
  },
  {
   "cell_type": "code",
   "execution_count": 21,
   "id": "fe7999a2",
   "metadata": {
    "scrolled": true
   },
   "outputs": [
    {
     "ename": "AttributeError",
     "evalue": "'DataLoader' object has no attribute 'dump_data'",
     "output_type": "error",
     "traceback": [
      "\u001b[1;31m---------------------------------------------------------------------------\u001b[0m",
      "\u001b[1;31mAttributeError\u001b[0m                            Traceback (most recent call last)",
      "Cell \u001b[1;32mIn[21], line 1\u001b[0m\n\u001b[1;32m----> 1\u001b[0m \u001b[43mdata_loader_a\u001b[49m\u001b[38;5;241;43m.\u001b[39;49m\u001b[43mdump_data\u001b[49m()\n",
      "\u001b[1;31mAttributeError\u001b[0m: 'DataLoader' object has no attribute 'dump_data'"
     ]
    }
   ],
   "source": [
    "data_loader_a.dump_data()"
   ]
  },
  {
   "cell_type": "markdown",
   "id": "7fa040e2",
   "metadata": {},
   "source": [
    "# 模型建立与求解"
   ]
  },
  {
   "cell_type": "code",
   "execution_count": 9,
   "id": "ffe13b4c",
   "metadata": {},
   "outputs": [],
   "source": [
    "import gurobipy as gp\n",
    "from gurobipy import *"
   ]
  },
  {
   "cell_type": "markdown",
   "id": "77a7ea65",
   "metadata": {},
   "source": [
    "## 优化目标①"
   ]
  },
  {
   "cell_type": "code",
   "execution_count": 10,
   "id": "c55cc781",
   "metadata": {
    "scrolled": false
   },
   "outputs": [
    {
     "name": "stdout",
     "output_type": "stream",
     "text": [
      "Gurobi Optimizer version 9.5.2 build v9.5.2rc0 (win64)\n",
      "Thread count: 8 physical cores, 16 logical processors, using up to 16 threads\n",
      "Optimize a model with 790007 rows, 912992 columns and 5334386 nonzeros\n",
      "Model fingerprint: 0x8766957d\n",
      "Variable types: 0 continuous, 912992 integer (912992 binary)\n",
      "Coefficient statistics:\n",
      "  Matrix range     [1e+00, 1e+04]\n",
      "  Objective range  [1e+00, 1e+00]\n",
      "  Bounds range     [1e+00, 1e+00]\n",
      "  RHS range        [1e+00, 1e+04]\n",
      "Found heuristic solution: objective 0.0000000\n",
      "Presolve removed 770786 rows and 767578 columns\n",
      "Presolve time: 2.39s\n",
      "Presolved: 19221 rows, 145414 columns, 577408 nonzeros\n",
      "Variable types: 0 continuous, 145414 integer (145414 binary)\n",
      "\n",
      "Deterministic concurrent LP optimizer: primal and dual simplex\n",
      "Showing first log only...\n",
      "\n",
      "\n",
      "Root simplex log...\n",
      "\n",
      "Iteration    Objective       Primal Inf.    Dual Inf.      Time\n",
      "   15093   -3.1336139e+01   0.000000e+00   2.638588e+05      5s\n",
      "   34283   -6.0886684e+01   0.000000e+00   2.054291e+06     10s\n",
      "   50388   -8.6646864e+01   0.000000e+00   3.892607e+05     15s\n",
      "   65453   -1.1299115e+02   0.000000e+00   3.061658e+05     20s\n",
      "   79243   -1.2930806e+02   0.000000e+00   1.371282e+06     25s\n",
      "   92958   -1.4308295e+02   0.000000e+00   1.407743e+06     30s\n",
      "  105673   -1.5359422e+02   0.000000e+00   4.171490e+05     35s\n",
      "  118928   -1.6395101e+02   0.000000e+00   1.675797e+05     40s\n",
      "Concurrent spin time: 0.00s\n",
      "\n",
      "Solved with dual simplex\n",
      "\n",
      "Root relaxation: objective -2.060000e+02, 46464 iterations, 38.60 seconds (49.60 work units)\n",
      "Total elapsed time = 45.80s\n",
      "Total elapsed time = 52.02s\n",
      "\n",
      "    Nodes    |    Current Node    |     Objective Bounds      |     Work\n",
      " Expl Unexpl |  Obj  Depth IntInf | Incumbent    BestBd   Gap | It/Node Time\n",
      "\n",
      "*    0     0               0    -206.0000000 -206.00000  0.00%     -   52s\n",
      "\n",
      "Explored 1 nodes (102547 simplex iterations) in 52.68 seconds (71.45 work units)\n",
      "Thread count was 16 (of 16 available processors)\n",
      "\n",
      "Solution count 2: -206 0 \n",
      "No other solutions better than -206\n",
      "\n",
      "Optimal solution found (tolerance 1.00e-04)\n",
      "Best objective -2.060000000000e+02, best bound -2.060000000000e+02, gap 0.0000%\n"
     ]
    }
   ],
   "source": [
    "m=gp.Model('m1')\n",
    "\n",
    "z=m.addVars(data_loader_a.F,vtype=gp.GRB.BINARY,name='z')\n",
    "x_ikdh=m.addVars(data_loader_a.F,data_loader_a.C,vtype=gp.GRB.BINARY,name='x_dh')\n",
    "x_ikfo=m.addVars(data_loader_a.F,data_loader_a.C,vtype=gp.GRB.BINARY,name='x_fo')\n",
    "x_ikcap=m.addVars(data_loader_a.F,data_loader_a.C,vtype=gp.GRB.BINARY,name='x_cap')\n",
    "\n",
    "r_iksta=m.addVars(data_loader_a.F,data_loader_a.C,vtype=gp.GRB.BINARY,name='r_iksta')\n",
    "r_jkfin=m.addVars(data_loader_a.F,data_loader_a.C,vtype=gp.GRB.BINARY,name='r_jkfin')\n",
    "\n",
    "y_ijk=m.addVars(data_loader_a.F,data_loader_a.F,data_loader_a.C,vtype=gp.GRB.BINARY,name='y_ijk')\n",
    "\n",
    "\n",
    "m.ModelSense=GRB.MINIMIZE\n",
    "\n",
    "m.setObjective(-z.sum())\n",
    "# m.setObjective(x_ikdh.sum())\n",
    "# m.setObjective(gp.quicksum(x_ikfo[i,k] for i in data_loader_a.F for k in data_loader_a.C2))\n",
    "\n",
    "#m.setObjectiveN(-z.sum(),index = 0,weight =0.8)\n",
    "#m.setObjectiveN(x_ikdh.sum(),index=1,weight=0.2)\n",
    "#m.setObjectiveN(gp.quicksum(x_ikfo[i,k] for i in data_loader_a.F for k in data_loader_a.C2),index=2,weight=0.05)\n",
    "\n",
    "\n",
    "M=10000\n",
    "#对X的约束\n",
    "m.addConstrs(x_ikfo[i,k]==0 for i in data_loader_a.F for k in data_loader_a.C1 )\n",
    "m.addConstrs(x_ikcap[i,k]==0 for i in data_loader_a.F for k in data_loader_a.C3 )\n",
    "m.addConstrs(x_ikcap[i,k]+x_ikfo[i,k]+x_ikdh[i,k]<=1 for i in data_loader_a.F for k in data_loader_a.C)\n",
    "\n",
    "#对Z的约束\n",
    "m.addConstrs(gp.quicksum(x_ikcap[i,k]+x_ikfo[i,k]+x_ikdh[i,k] for k in data_loader_a.C)<=M*(z[i]) for i in data_loader_a.F)\n",
    "m.addConstrs(x_ikcap.sum(i,'*')== z[i] for i in data_loader_a.F )\n",
    "m.addConstrs(x_ikfo.sum(i,'*')== z[i] for i in data_loader_a.F )\n",
    "m.addConstrs(M*z[j]>=gp.quicksum(x_ikcap[j,k]+x_ikfo[j,k]+x_ikdh[j,k] for k in data_loader_a.C) for j in data_loader_a.F)\n",
    "\n",
    "#对Y的约束\n",
    "m.addConstrs(y_ijk[i,j,k]==0 for i,j in data_loader_a.FF for k in data_loader_a.C)\n",
    "#m.addConstrs(gp.quicksum(y_ijk[i,j,k] for j in F)<=x_ikcap[i,k]+x_ikfo[i,k]+x_ikdh[i,k] for i in F for k in C)\n",
    "#m.addConstrs(gp.quicksum(y_ijk[j,i,k] for j in F)<=x_ikcap[i,k]+x_ikfo[i,k]+x_ikdh[i,k] for i in F for k in C)\n",
    "\n",
    "#对roaster周期的约束\n",
    "m.addConstrs(r_jkfin[j,k]== 0 for j in data_loader_a.nonF_arrive_base[0] for k in data_loader_a.C)\n",
    "m.addConstrs(r_iksta[i,k]== 0 for i in data_loader_a.nonF_leave_base[0] for k in data_loader_a.C)\n",
    "\n",
    "m.addConstrs(gp.quicksum(r_iksta[i,k] for i in data_loader_a.F_leave_base[0] )<=1  for k in data_loader_a.C)\n",
    "m.addConstrs(gp.quicksum(r_jkfin[j,k] for j in data_loader_a.F_arrive_base[0] )-gp.quicksum(r_iksta[i,k] for i in data_loader_a.F_leave_base[0] ) == 0 for k in data_loader_a.C)\n",
    "\n",
    "#第一问中航班对应周期的约束\n",
    "m.addConstrs(1-(y_ijk.sum(i,'*',k)+r_iksta[i,k]+r_jkfin[i,k])<=M*(1-(x_ikcap[i,k]+x_ikfo[i,k]+x_ikdh[i,k])) for i in data_loader_a.F for k in data_loader_a.C)\n",
    "m.addConstrs(y_ijk.sum(i,'*',k)+r_jkfin[i,k]-(y_ijk.sum('*',i,k)+r_iksta[i,k]) == 0 for i in data_loader_a.F for k in data_loader_a.C)\n",
    "\n",
    "m.addConstrs(y_ijk.sum(i,'*',k)+r_jkfin[i,k] <= x_ikcap[i,k]+x_ikfo[i,k]+x_ikdh[i,k]  for i in data_loader_a.F for k in data_loader_a.C)\n",
    "m.addConstrs(y_ijk.sum('*',i,k)+r_iksta[i,k] <= x_ikcap[i,k]+x_ikfo[i,k]+x_ikdh[i,k]  for i in data_loader_a.F for k in data_loader_a.C)\n",
    "\n",
    "#多目标优化\n",
    "# m.addConstr(z.sum()==206)\n",
    "# m.addConstr(x_ikdh.sum()==8)\n",
    "\n",
    "m.update()\n",
    "m.optimize()"
   ]
  },
  {
   "cell_type": "markdown",
   "id": "d8799037",
   "metadata": {},
   "source": [
    "## 优化目标④"
   ]
  },
  {
   "cell_type": "code",
   "execution_count": 11,
   "id": "6ccc7ca7",
   "metadata": {},
   "outputs": [
    {
     "name": "stdout",
     "output_type": "stream",
     "text": [
      "Gurobi Optimizer version 9.5.2 build v9.5.2rc0 (win64)\n",
      "Thread count: 8 physical cores, 16 logical processors, using up to 16 threads\n",
      "Optimize a model with 790008 rows, 912992 columns and 5334592 nonzeros\n",
      "Model fingerprint: 0xea91d30d\n",
      "Variable types: 0 continuous, 912992 integer (912992 binary)\n",
      "Coefficient statistics:\n",
      "  Matrix range     [1e+00, 1e+04]\n",
      "  Objective range  [1e+00, 1e+00]\n",
      "  Bounds range     [1e+00, 1e+00]\n",
      "  RHS range        [1e+00, 1e+04]\n",
      "Presolve time: 0.42s\n",
      "\n",
      "Explored 0 nodes (0 simplex iterations) in 1.23 seconds (1.07 work units)\n",
      "Thread count was 1 (of 16 available processors)\n",
      "\n",
      "Solution count 0\n",
      "No other solutions better than -1e+100\n",
      "\n",
      "Model is infeasible\n",
      "Best objective -, best bound -, gap -\n"
     ]
    }
   ],
   "source": [
    "m=gp.Model('m1')\n",
    "\n",
    "z=m.addVars(data_loader_a.F,vtype=gp.GRB.BINARY,name='z')\n",
    "x_ikdh=m.addVars(data_loader_a.F,data_loader_a.C,vtype=gp.GRB.BINARY,name='x_dh')\n",
    "x_ikfo=m.addVars(data_loader_a.F,data_loader_a.C,vtype=gp.GRB.BINARY,name='x_fo')\n",
    "x_ikcap=m.addVars(data_loader_a.F,data_loader_a.C,vtype=gp.GRB.BINARY,name='x_cap')\n",
    "\n",
    "r_iksta=m.addVars(data_loader_a.F,data_loader_a.C,vtype=gp.GRB.BINARY,name='r_iksta')\n",
    "r_jkfin=m.addVars(data_loader_a.F,data_loader_a.C,vtype=gp.GRB.BINARY,name='r_jkfin')\n",
    "\n",
    "y_ijk=m.addVars(data_loader_a.F,data_loader_a.F,data_loader_a.C,vtype=gp.GRB.BINARY,name='y_ijk')\n",
    "\n",
    "\n",
    "m.ModelSense=GRB.MAXIMIZE\n",
    "\n",
    "# m.setObjective(-z.sum())\n",
    "m.setObjective(-x_ikdh.sum())\n",
    "# m.setObjective(gp.quicksum(x_ikfo[i,k] for i in data_loader_a.F for k in data_loader_a.C2))\n",
    "\n",
    "#m.setObjectiveN(-z.sum(),index = 0,weight =0.8)\n",
    "#m.setObjectiveN(x_ikdh.sum(),index=1,weight=0.2)\n",
    "#m.setObjectiveN(gp.quicksum(x_ikfo[i,k] for i in data_loader_a.F for k in data_loader_a.C2),index=2,weight=0.05)\n",
    "\n",
    "\n",
    "M=10000\n",
    "#对X的约束\n",
    "m.addConstrs(x_ikfo[i,k]==0 for i in data_loader_a.F for k in data_loader_a.C1 )\n",
    "m.addConstrs(x_ikcap[i,k]==0 for i in data_loader_a.F for k in data_loader_a.C3 )\n",
    "m.addConstrs(x_ikcap[i,k]+x_ikfo[i,k]+x_ikdh[i,k]<=1 for i in data_loader_a.F for k in data_loader_a.C)\n",
    "\n",
    "#对Z的约束\n",
    "m.addConstrs(gp.quicksum(x_ikcap[i,k]+x_ikfo[i,k]+x_ikdh[i,k] for k in data_loader_a.C)<=M*(z[i]) for i in data_loader_a.F)\n",
    "m.addConstrs(x_ikcap.sum(i,'*')== z[i] for i in data_loader_a.F )\n",
    "m.addConstrs(x_ikfo.sum(i,'*')== z[i] for i in data_loader_a.F )\n",
    "m.addConstrs(M*z[j]>=gp.quicksum(x_ikcap[j,k]+x_ikfo[j,k]+x_ikdh[j,k] for k in data_loader_a.C) for j in data_loader_a.F)\n",
    "\n",
    "#对Y的约束\n",
    "m.addConstrs(y_ijk[i,j,k]==0 for i,j in data_loader_a.FF for k in data_loader_a.C)\n",
    "#m.addConstrs(gp.quicksum(y_ijk[i,j,k] for j in F)<=x_ikcap[i,k]+x_ikfo[i,k]+x_ikdh[i,k] for i in F for k in C)\n",
    "#m.addConstrs(gp.quicksum(y_ijk[j,i,k] for j in F)<=x_ikcap[i,k]+x_ikfo[i,k]+x_ikdh[i,k] for i in F for k in C)\n",
    "\n",
    "#对roaster周期的约束\n",
    "m.addConstrs(r_jkfin[j,k]== 0 for j in data_loader_a.nonF_arrive_base[0] for k in data_loader_a.C)\n",
    "m.addConstrs(r_iksta[i,k]== 0 for i in data_loader_a.nonF_leave_base[0] for k in data_loader_a.C)\n",
    "\n",
    "m.addConstrs(gp.quicksum(r_iksta[i,k] for i in data_loader_a.F_leave_base[0] )<=1  for k in data_loader_a.C)\n",
    "m.addConstrs(gp.quicksum(r_jkfin[j,k] for j in data_loader_a.F_arrive_base[0] )-gp.quicksum(r_iksta[i,k] for i in data_loader_a.F_leave_base[0] ) == 0 for k in data_loader_a.C)\n",
    "\n",
    "#第一问中航班对应周期的约束\n",
    "m.addConstrs(1-(y_ijk.sum(i,'*',k)+r_iksta[i,k]+r_jkfin[i,k])<=M*(1-(x_ikcap[i,k]+x_ikfo[i,k]+x_ikdh[i,k])) for i in data_loader_a.F for k in data_loader_a.C)\n",
    "m.addConstrs(y_ijk.sum(i,'*',k)+r_jkfin[i,k]-(y_ijk.sum('*',i,k)+r_iksta[i,k]) == 0 for i in data_loader_a.F for k in data_loader_a.C)\n",
    "\n",
    "m.addConstrs(y_ijk.sum(i,'*',k)+r_jkfin[i,k] <= x_ikcap[i,k]+x_ikfo[i,k]+x_ikdh[i,k]  for i in data_loader_a.F for k in data_loader_a.C)\n",
    "m.addConstrs(y_ijk.sum('*',i,k)+r_iksta[i,k] <= x_ikcap[i,k]+x_ikfo[i,k]+x_ikdh[i,k]  for i in data_loader_a.F for k in data_loader_a.C)\n",
    "\n",
    "#多目标优化\n",
    "m.addConstr(z.sum()==13411)\n",
    "#m.addConstr(x_ikdh.sum()==8)\n",
    "\n",
    "m.update()\n",
    "m.optimize()"
   ]
  },
  {
   "cell_type": "markdown",
   "id": "e630061d",
   "metadata": {},
   "source": [
    "## 优化目标⑦"
   ]
  },
  {
   "cell_type": "code",
   "execution_count": 12,
   "id": "89660a8e",
   "metadata": {},
   "outputs": [
    {
     "name": "stdout",
     "output_type": "stream",
     "text": [
      "Gurobi Optimizer version 9.5.2 build v9.5.2rc0 (win64)\n",
      "Thread count: 8 physical cores, 16 logical processors, using up to 16 threads\n",
      "Optimize a model with 790009 rows, 912992 columns and 5338918 nonzeros\n",
      "Model fingerprint: 0xda7269d4\n",
      "Variable types: 0 continuous, 912992 integer (912992 binary)\n",
      "Coefficient statistics:\n",
      "  Matrix range     [1e+00, 1e+04]\n",
      "  Objective range  [1e+00, 1e+00]\n",
      "  Bounds range     [1e+00, 1e+00]\n",
      "  RHS range        [1e+00, 1e+04]\n",
      "Presolve removed 771029 rows and 767798 columns\n",
      "Presolve time: 4.00s\n",
      "Presolved: 18980 rows, 145194 columns, 573212 nonzeros\n",
      "Variable types: 0 continuous, 145194 integer (145194 binary)\n",
      "\n",
      "Deterministic concurrent LP optimizer: primal and dual simplex\n",
      "Showing first log only...\n",
      "\n",
      "\n",
      "Root simplex log...\n",
      "\n",
      "Iteration    Objective       Primal Inf.    Dual Inf.      Time\n",
      "       0    3.0000000e+00   6.390000e+02   3.156400e+10      5s\n",
      "   33258    2.0959300e+01   1.627420e+02   1.179846e+11     10s\n",
      "   52978    3.4238735e+01   1.221071e+02   7.097811e+10     15s\n",
      "   69808    3.9345194e+01   9.868293e+01   6.228749e+10     20s\n",
      "   84768    4.2798298e+01   8.200594e+01   6.326483e+10     25s\n",
      "   99218    4.5707798e+01   6.922778e+01   5.377653e+10     30s\n",
      "  113668    4.7780222e+01   5.928662e+01   6.700216e+10     35s\n",
      "  127268    4.9053927e+01   5.062456e+01   1.703145e+11     40s\n",
      "Concurrent spin time: 0.00s\n",
      "\n",
      "Solved with dual simplex\n",
      "\n",
      "Root relaxation: objective 0.000000e+00, 47871 iterations, 35.52 seconds (40.45 work units)\n",
      "\n",
      "    Nodes    |    Current Node    |     Objective Bounds      |     Work\n",
      " Expl Unexpl |  Obj  Depth IntInf | Incumbent    BestBd   Gap | It/Node Time\n",
      "\n",
      "*    0     0               0       0.0000000    0.00000  0.00%     -   44s\n",
      "\n",
      "Explored 1 nodes (60299 simplex iterations) in 44.29 seconds (48.78 work units)\n",
      "Thread count was 16 (of 16 available processors)\n",
      "\n",
      "Solution count 1: 0 \n",
      "\n",
      "Optimal solution found (tolerance 1.00e-04)\n",
      "Best objective 0.000000000000e+00, best bound 0.000000000000e+00, gap 0.0000%\n"
     ]
    }
   ],
   "source": [
    "m=gp.Model('m1')\n",
    "\n",
    "z=m.addVars(data_loader_a.F,vtype=gp.GRB.BINARY,name='z')\n",
    "x_ikdh=m.addVars(data_loader_a.F,data_loader_a.C,vtype=gp.GRB.BINARY,name='x_dh')\n",
    "x_ikfo=m.addVars(data_loader_a.F,data_loader_a.C,vtype=gp.GRB.BINARY,name='x_fo')\n",
    "x_ikcap=m.addVars(data_loader_a.F,data_loader_a.C,vtype=gp.GRB.BINARY,name='x_cap')\n",
    "\n",
    "r_iksta=m.addVars(data_loader_a.F,data_loader_a.C,vtype=gp.GRB.BINARY,name='r_iksta')\n",
    "r_jkfin=m.addVars(data_loader_a.F,data_loader_a.C,vtype=gp.GRB.BINARY,name='r_jkfin')\n",
    "\n",
    "y_ijk=m.addVars(data_loader_a.F,data_loader_a.F,data_loader_a.C,vtype=gp.GRB.BINARY,name='y_ijk')\n",
    "\n",
    "\n",
    "m.ModelSense=GRB.MINIMIZE\n",
    "\n",
    "# m.setObjective(-z.sum())\n",
    "# m.setObjective(x_ikdh.sum())\n",
    "m.setObjective(gp.quicksum(x_ikfo[i,k] for i in data_loader_a.F for k in data_loader_a.C2))\n",
    "\n",
    "#m.setObjectiveN(-z.sum(),index = 0,weight =0.8)\n",
    "#m.setObjectiveN(x_ikdh.sum(),index=1,weight=0.2)\n",
    "#m.setObjectiveN(gp.quicksum(x_ikfo[i,k] for i in data_loader_a.F for k in data_loader_a.C2),index=2,weight=0.05)\n",
    "\n",
    "\n",
    "M=10000\n",
    "#对X的约束\n",
    "m.addConstrs(x_ikfo[i,k]==0 for i in data_loader_a.F for k in data_loader_a.C1 )\n",
    "m.addConstrs(x_ikcap[i,k]==0 for i in data_loader_a.F for k in data_loader_a.C3 )\n",
    "m.addConstrs(x_ikcap[i,k]+x_ikfo[i,k]+x_ikdh[i,k]<=1 for i in data_loader_a.F for k in data_loader_a.C)\n",
    "\n",
    "#对Z的约束\n",
    "m.addConstrs(gp.quicksum(x_ikcap[i,k]+x_ikfo[i,k]+x_ikdh[i,k] for k in data_loader_a.C)<=M*(z[i]) for i in data_loader_a.F)\n",
    "m.addConstrs(x_ikcap.sum(i,'*')== z[i] for i in data_loader_a.F )\n",
    "m.addConstrs(x_ikfo.sum(i,'*')== z[i] for i in data_loader_a.F )\n",
    "m.addConstrs(M*z[j]>=gp.quicksum(x_ikcap[j,k]+x_ikfo[j,k]+x_ikdh[j,k] for k in data_loader_a.C) for j in data_loader_a.F)\n",
    "\n",
    "#对Y的约束\n",
    "m.addConstrs(y_ijk[i,j,k]==0 for i,j in data_loader_a.FF for k in data_loader_a.C)\n",
    "#m.addConstrs(gp.quicksum(y_ijk[i,j,k] for j in F)<=x_ikcap[i,k]+x_ikfo[i,k]+x_ikdh[i,k] for i in F for k in C)\n",
    "#m.addConstrs(gp.quicksum(y_ijk[j,i,k] for j in F)<=x_ikcap[i,k]+x_ikfo[i,k]+x_ikdh[i,k] for i in F for k in C)\n",
    "\n",
    "#对roaster周期的约束\n",
    "m.addConstrs(r_jkfin[j,k]== 0 for j in data_loader_a.nonF_arrive_base[0] for k in data_loader_a.C)\n",
    "m.addConstrs(r_iksta[i,k]== 0 for i in data_loader_a.nonF_leave_base[0] for k in data_loader_a.C)\n",
    "\n",
    "m.addConstrs(gp.quicksum(r_iksta[i,k] for i in data_loader_a.F_leave_base[0] )<=1  for k in data_loader_a.C)\n",
    "m.addConstrs(gp.quicksum(r_jkfin[j,k] for j in data_loader_a.F_arrive_base[0] )-gp.quicksum(r_iksta[i,k] for i in data_loader_a.F_leave_base[0] ) == 0 for k in data_loader_a.C)\n",
    "\n",
    "#第一问中航班对应周期的约束\n",
    "m.addConstrs(1-(y_ijk.sum(i,'*',k)+r_iksta[i,k]+r_jkfin[i,k])<=M*(1-(x_ikcap[i,k]+x_ikfo[i,k]+x_ikdh[i,k])) for i in data_loader_a.F for k in data_loader_a.C)\n",
    "m.addConstrs(y_ijk.sum(i,'*',k)+r_jkfin[i,k]-(y_ijk.sum('*',i,k)+r_iksta[i,k]) == 0 for i in data_loader_a.F for k in data_loader_a.C)\n",
    "\n",
    "m.addConstrs(y_ijk.sum(i,'*',k)+r_jkfin[i,k] <= x_ikcap[i,k]+x_ikfo[i,k]+x_ikdh[i,k]  for i in data_loader_a.F for k in data_loader_a.C)\n",
    "m.addConstrs(y_ijk.sum('*',i,k)+r_iksta[i,k] <= x_ikcap[i,k]+x_ikfo[i,k]+x_ikdh[i,k]  for i in data_loader_a.F for k in data_loader_a.C)\n",
    "\n",
    "#多目标优化\n",
    "m.addConstr(z.sum()==206)\n",
    "m.addConstr(x_ikdh.sum()==8)\n",
    "\n",
    "m.update()\n",
    "m.optimize()"
   ]
  },
  {
   "cell_type": "markdown",
   "id": "63343f5c",
   "metadata": {},
   "source": [
    "# 结果展示与导出"
   ]
  },
  {
   "cell_type": "code",
   "execution_count": 9,
   "id": "6988c903",
   "metadata": {},
   "outputs": [],
   "source": [
    "import pandas as pd"
   ]
  },
  {
   "cell_type": "code",
   "execution_count": 10,
   "id": "061d4301",
   "metadata": {},
   "outputs": [],
   "source": [
    "results_dic = {'em_no':[], 'fl_no':[], 'cls':[]}\n",
    "for i in data_loader_a.F:\n",
    "    for k in data_loader_a.C:\n",
    "        if x_ikcap[i,k].x > 0.9:\n",
    "            results_dic['em_no'].append(k)\n",
    "            results_dic['fl_no'].append(i)\n",
    "            results_dic['cls'].append(1)\n",
    "        if x_ikfo[i,k].x > 0.9:\n",
    "            results_dic['em_no'].append(k)\n",
    "            results_dic['fl_no'].append(i)\n",
    "            results_dic['cls'].append(2)\n",
    "        if x_ikdh[i,k].x > 0.9:\n",
    "            results_dic['em_no'].append(k)\n",
    "            results_dic['fl_no'].append(i)\n",
    "            results_dic['cls'].append(3)"
   ]
  },
  {
   "cell_type": "code",
   "execution_count": 11,
   "id": "88373a5b",
   "metadata": {},
   "outputs": [
    {
     "name": "stdout",
     "output_type": "stream",
     "text": [
      "     em_no  fl_no  cls\n",
      "0        3      0    1\n",
      "1       16      0    2\n",
      "2        1      1    1\n",
      "3       11      1    2\n",
      "4        1      2    1\n",
      "..     ...    ...  ...\n",
      "415     11    203    2\n",
      "416      9    204    1\n",
      "417     12    204    2\n",
      "418      5    205    1\n",
      "419     20    205    2\n",
      "\n",
      "[420 rows x 3 columns]\n"
     ]
    }
   ],
   "source": [
    "df = pd.DataFrame(results_dic)\n",
    "print(df)"
   ]
  },
  {
   "cell_type": "code",
   "execution_count": 12,
   "id": "ae338f1c",
   "metadata": {},
   "outputs": [],
   "source": [
    "from ResultViewer import RViewer"
   ]
  },
  {
   "cell_type": "code",
   "execution_count": 13,
   "id": "8325deee",
   "metadata": {},
   "outputs": [],
   "source": [
    "rv = RViewer(data_loader_a, data_cls='a')\n",
    "rv.load_results_from_df(df)"
   ]
  },
  {
   "cell_type": "code",
   "execution_count": 14,
   "id": "f523f733",
   "metadata": {
    "scrolled": false
   },
   "outputs": [
    {
     "data": {
      "image/png": "[encoded data removed]",
      "text/plain": [
       "<Figure size 1600x640 with 1 Axes>"
      ]
     },
     "metadata": {},
     "output_type": "display_data"
    }
   ],
   "source": [
    "rv.draw_ef_gantt(save=\"results/q1_a.png\")"
   ]
  },
  {
   "cell_type": "code",
   "execution_count": null,
   "id": "4e1a727d",
   "metadata": {},
   "outputs": [],
   "source": [
    "df_a = rv.get_results_df_a()"
   ]
  },
  {
   "cell_type": "code",
   "execution_count": null,
   "id": "14d33d58",
   "metadata": {},
   "outputs": [],
   "source": [
    "df_a"
   ]
  },
  {
   "cell_type": "code",
   "execution_count": null,
   "id": "b60c28be",
   "metadata": {},
   "outputs": [],
   "source": [
    "df_a.to_csv('results/q1_a_UnconveredFlights.csv', index=0)"
   ]
  },
  {
   "cell_type": "code",
   "execution_count": null,
   "id": "61f57352",
   "metadata": {},
   "outputs": [],
   "source": [
    "df_b = rv.get_results_df_b()\n",
    "df_b"
   ]
  },
  {
   "cell_type": "code",
   "execution_count": null,
   "id": "a8e4bc94",
   "metadata": {},
   "outputs": [],
   "source": [
    "df_b.to_csv('results/q1_a_CrewRosters.csv', index=0)"
   ]
  },
  {
   "cell_type": "code",
   "execution_count": 18,
   "id": "376483a7",
   "metadata": {},
   "outputs": [
    {
     "ename": "AttributeError",
     "evalue": "'DataLoader' object has no attribute 'to_csv'",
     "output_type": "error",
     "traceback": [
      "\u001b[1;31m---------------------------------------------------------------------------\u001b[0m",
      "\u001b[1;31mAttributeError\u001b[0m                            Traceback (most recent call last)",
      "Cell \u001b[1;32mIn[18], line 1\u001b[0m\n\u001b[1;32m----> 1\u001b[0m \u001b[43mdata_loader_a\u001b[49m\u001b[38;5;241;43m.\u001b[39;49m\u001b[43mto_csv\u001b[49m(\u001b[38;5;124m'\u001b[39m\u001b[38;5;124mdata_loader_a.csv\u001b[39m\u001b[38;5;124m'\u001b[39m, index\u001b[38;5;241m=\u001b[39m\u001b[38;5;241m0\u001b[39m)\n",
      "\u001b[1;31mAttributeError\u001b[0m: 'DataLoader' object has no attribute 'to_csv'"
     ]
    }
   ],
   "source": []
  },
  {
   "cell_type": "code",
   "execution_count": null,
   "id": "a9959ecd",
   "metadata": {},
   "outputs": [],
   "source": []
  }
 ],
 "metadata": {
  "kernelspec": {
   "display_name": "Python 3 (ipykernel)",
   "language": "python",
   "name": "python3"
  },
  "language_info": {
   "codemirror_mode": {
    "name": "ipython",
    "version": 3
   },
   "file_extension": ".py",
   "mimetype": "text/x-python",
   "name": "python",
   "nbconvert_exporter": "python",
   "pygments_lexer": "ipython3",
   "version": "3.10.9"
  }
 },
 "nbformat": 4,
 "nbformat_minor": 5
}
